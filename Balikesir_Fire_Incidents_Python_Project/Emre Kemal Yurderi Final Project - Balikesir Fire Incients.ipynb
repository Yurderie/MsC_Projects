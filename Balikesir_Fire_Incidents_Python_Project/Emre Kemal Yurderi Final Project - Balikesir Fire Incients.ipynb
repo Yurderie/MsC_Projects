{
 "cells": [
  {
   "cell_type": "markdown",
   "metadata": {},
   "source": [
    "# BALIKESIR FIRE INCIDENTS"
   ]
  },
  {
   "cell_type": "markdown",
   "metadata": {},
   "source": [
    "I am going to analyze the fire incidents that recorded in Balikesir from 2017 to 2020. I would like to examine if there are some differences between districts or are there any similarities between the incident reasons. There are plenty of similar datasets on Kaggle, such as New York City Fire Incidents, Toronto Fire Incidents etc. Even though these examples may be more comprehensive and more popular, I would like to analyze the Balikesir Municipility's data to support their open data platform. "
   ]
  },
  {
   "cell_type": "markdown",
   "metadata": {},
   "source": [
    "Balikesir fire incidents dataset includes 14 columns and 9764 rows. District, estimated damage, received reporting type, type of fire, type of reason and some informative dates of the incident are given in dataset. It covers all the reports taken from 2017 to 2020."
   ]
  },
  {
   "cell_type": "markdown",
   "metadata": {},
   "source": [
    "Balikesir is the 17th crowded city of Turkey. The total population of Balikesir is 1.2 million (2019). There are 20 districts. The top 3 most crowded districts are, Karesi, Altieylül and Bandirma. Ayvalık is mostly known as a tourist attraction district of the city. The native population is 70 thousand people however, it can be reached to 500 thousands in summers."
   ]
  },
  {
   "cell_type": "code",
   "execution_count": 1,
   "metadata": {},
   "outputs": [],
   "source": [
    "import pandas as pd\n",
    "import numpy as np\n",
    "import matplotlib.pyplot as plt\n",
    "import seaborn as sns\n",
    "from datetime import datetime\n",
    "from datetime import time\n",
    "from datetime import date\n",
    "from datetime import timedelta"
   ]
  },
  {
   "cell_type": "code",
   "execution_count": 2,
   "metadata": {},
   "outputs": [],
   "source": [
    "data = pd.read_excel(\"balikesir_fire_incidents.xls\")"
   ]
  },
  {
   "cell_type": "code",
   "execution_count": 3,
   "metadata": {},
   "outputs": [
    {
     "data": {
      "text/html": [
       "<div>\n",
       "<style scoped>\n",
       "    .dataframe tbody tr th:only-of-type {\n",
       "        vertical-align: middle;\n",
       "    }\n",
       "\n",
       "    .dataframe tbody tr th {\n",
       "        vertical-align: top;\n",
       "    }\n",
       "\n",
       "    .dataframe thead th {\n",
       "        text-align: right;\n",
       "    }\n",
       "</style>\n",
       "<table border=\"1\" class=\"dataframe\">\n",
       "  <thead>\n",
       "    <tr style=\"text-align: right;\">\n",
       "      <th></th>\n",
       "      <th>ID</th>\n",
       "      <th>İlçe Adı</th>\n",
       "      <th>Mahalle</th>\n",
       "      <th>Sokak</th>\n",
       "      <th>İhbar Tipi</th>\n",
       "      <th>Tahmini Zarar</th>\n",
       "      <th>Yangın Cinsi</th>\n",
       "      <th>Yangın Nedeni</th>\n",
       "      <th>Müdahale Eden Amirlik</th>\n",
       "      <th>İhbar Saati</th>\n",
       "      <th>Çıkış Tarihi</th>\n",
       "      <th>Olay Yerine Ulaşım Saati</th>\n",
       "      <th>Yangın Söndürme Saati</th>\n",
       "      <th>Geri Dönüş Saati</th>\n",
       "    </tr>\n",
       "  </thead>\n",
       "  <tbody>\n",
       "    <tr>\n",
       "      <th>0</th>\n",
       "      <td>9764</td>\n",
       "      <td>KARESİ</td>\n",
       "      <td>ZİYARETLİ</td>\n",
       "      <td>NaN</td>\n",
       "      <td>YUZ_ON_IKI_CAGRI</td>\n",
       "      <td>BASLANGIC_HALINDE</td>\n",
       "      <td>Ot Yangını</td>\n",
       "      <td>Dikkatsizlik</td>\n",
       "      <td>Karesi Grup Amirliği</td>\n",
       "      <td>18.11.2017 18:54:00</td>\n",
       "      <td>18.11.2017 18:55:00</td>\n",
       "      <td>18.11.2017 19:06:00</td>\n",
       "      <td>18.11.2017 19:28:00</td>\n",
       "      <td>18.11.2017 19:42:00</td>\n",
       "    </tr>\n",
       "    <tr>\n",
       "      <th>1</th>\n",
       "      <td>9763</td>\n",
       "      <td>ERDEK</td>\n",
       "      <td>ZEYTİNLİ</td>\n",
       "      <td>NaN</td>\n",
       "      <td>YUZ_ON_IKI_CAGRI</td>\n",
       "      <td>BASLANGIC_HALINDE</td>\n",
       "      <td>Ot Yangını</td>\n",
       "      <td>Dikkatsizlik</td>\n",
       "      <td>Erdek Grup Amirliği</td>\n",
       "      <td>13.11.2019 15:28:00</td>\n",
       "      <td>13.11.2019 15:29:00</td>\n",
       "      <td>13.11.2019 15:33:00</td>\n",
       "      <td>13.11.2019 15:55:00</td>\n",
       "      <td>13.11.2019 16:02:00</td>\n",
       "    </tr>\n",
       "    <tr>\n",
       "      <th>2</th>\n",
       "      <td>9762</td>\n",
       "      <td>ERDEK</td>\n",
       "      <td>ZEYTİNLİ</td>\n",
       "      <td>NaN</td>\n",
       "      <td>YUZ_ON_IKI_CAGRI</td>\n",
       "      <td>KISMEN</td>\n",
       "      <td>Ot Yangını</td>\n",
       "      <td>Tedbirsizlik</td>\n",
       "      <td>Erdek Grup Amirliği</td>\n",
       "      <td>25.10.2019 10:58:00</td>\n",
       "      <td>25.10.2019 10:59:00</td>\n",
       "      <td>25.10.2019 11:03:00</td>\n",
       "      <td>25.10.2019 12:20:00</td>\n",
       "      <td>25.10.2019 12:25:00</td>\n",
       "    </tr>\n",
       "    <tr>\n",
       "      <th>3</th>\n",
       "      <td>9761</td>\n",
       "      <td>ERDEK</td>\n",
       "      <td>ZEYTİNLİ</td>\n",
       "      <td>NaN</td>\n",
       "      <td>YUZ_ON_IKI_CAGRI</td>\n",
       "      <td>BASLANGIC_HALINDE</td>\n",
       "      <td>Baca Yangını</td>\n",
       "      <td>Dikkatsizlik</td>\n",
       "      <td>Erdek Grup Amirliği</td>\n",
       "      <td>16.10.2019 18:10:00</td>\n",
       "      <td>16.10.2019 18:11:00</td>\n",
       "      <td>16.10.2019 18:15:00</td>\n",
       "      <td>16.10.2019 18:55:00</td>\n",
       "      <td>16.10.2019 19:00:00</td>\n",
       "    </tr>\n",
       "    <tr>\n",
       "      <th>4</th>\n",
       "      <td>9760</td>\n",
       "      <td>ERDEK</td>\n",
       "      <td>ZEYTİNLİ</td>\n",
       "      <td>NaN</td>\n",
       "      <td>YUZ_ON_IKI_CAGRI</td>\n",
       "      <td>KISMEN</td>\n",
       "      <td>Ot Yangını</td>\n",
       "      <td>Doğal Olaylar</td>\n",
       "      <td>Erdek Grup Amirliği</td>\n",
       "      <td>19.08.2019 17:03:00</td>\n",
       "      <td>19.08.2019 17:03:00</td>\n",
       "      <td>19.08.2019 17:05:00</td>\n",
       "      <td>19.08.2019 17:40:00</td>\n",
       "      <td>19.08.2019 17:45:00</td>\n",
       "    </tr>\n",
       "  </tbody>\n",
       "</table>\n",
       "</div>"
      ],
      "text/plain": [
       "     ID İlçe Adı    Mahalle  Sokak        İhbar Tipi      Tahmini Zarar  \\\n",
       "0  9764   KARESİ  ZİYARETLİ    NaN  YUZ_ON_IKI_CAGRI  BASLANGIC_HALINDE   \n",
       "1  9763    ERDEK   ZEYTİNLİ    NaN  YUZ_ON_IKI_CAGRI  BASLANGIC_HALINDE   \n",
       "2  9762    ERDEK   ZEYTİNLİ    NaN  YUZ_ON_IKI_CAGRI             KISMEN   \n",
       "3  9761    ERDEK   ZEYTİNLİ    NaN  YUZ_ON_IKI_CAGRI  BASLANGIC_HALINDE   \n",
       "4  9760    ERDEK   ZEYTİNLİ    NaN  YUZ_ON_IKI_CAGRI             KISMEN   \n",
       "\n",
       "   Yangın Cinsi  Yangın Nedeni Müdahale Eden Amirlik          İhbar Saati  \\\n",
       "0    Ot Yangını   Dikkatsizlik  Karesi Grup Amirliği  18.11.2017 18:54:00   \n",
       "1    Ot Yangını   Dikkatsizlik   Erdek Grup Amirliği  13.11.2019 15:28:00   \n",
       "2    Ot Yangını   Tedbirsizlik   Erdek Grup Amirliği  25.10.2019 10:58:00   \n",
       "3  Baca Yangını   Dikkatsizlik   Erdek Grup Amirliği  16.10.2019 18:10:00   \n",
       "4    Ot Yangını  Doğal Olaylar   Erdek Grup Amirliği  19.08.2019 17:03:00   \n",
       "\n",
       "          Çıkış Tarihi Olay Yerine Ulaşım Saati Yangın Söndürme Saati  \\\n",
       "0  18.11.2017 18:55:00      18.11.2017 19:06:00   18.11.2017 19:28:00   \n",
       "1  13.11.2019 15:29:00      13.11.2019 15:33:00   13.11.2019 15:55:00   \n",
       "2  25.10.2019 10:59:00      25.10.2019 11:03:00   25.10.2019 12:20:00   \n",
       "3  16.10.2019 18:11:00      16.10.2019 18:15:00   16.10.2019 18:55:00   \n",
       "4  19.08.2019 17:03:00      19.08.2019 17:05:00   19.08.2019 17:40:00   \n",
       "\n",
       "      Geri Dönüş Saati  \n",
       "0  18.11.2017 19:42:00  \n",
       "1  13.11.2019 16:02:00  \n",
       "2  25.10.2019 12:25:00  \n",
       "3  16.10.2019 19:00:00  \n",
       "4  19.08.2019 17:45:00  "
      ]
     },
     "execution_count": 3,
     "metadata": {},
     "output_type": "execute_result"
    }
   ],
   "source": [
    "data.head()"
   ]
  },
  {
   "cell_type": "code",
   "execution_count": 4,
   "metadata": {},
   "outputs": [
    {
     "data": {
      "text/plain": [
       "ID                            int64\n",
       "İlçe Adı                     object\n",
       "Mahalle                      object\n",
       "Sokak                       float64\n",
       "İhbar Tipi                   object\n",
       "Tahmini Zarar                object\n",
       "Yangın Cinsi                 object\n",
       "Yangın Nedeni                object\n",
       "Müdahale Eden Amirlik        object\n",
       "İhbar Saati                  object\n",
       "Çıkış Tarihi                 object\n",
       "Olay Yerine Ulaşım Saati     object\n",
       "Yangın Söndürme Saati        object\n",
       "Geri Dönüş Saati             object\n",
       "dtype: object"
      ]
     },
     "execution_count": 4,
     "metadata": {},
     "output_type": "execute_result"
    }
   ],
   "source": [
    "data.dtypes"
   ]
  },
  {
   "cell_type": "markdown",
   "metadata": {},
   "source": [
    "Dataset mostly contains categorical data with strings. To check the possible values that the variables could have:"
   ]
  },
  {
   "cell_type": "code",
   "execution_count": 5,
   "metadata": {},
   "outputs": [],
   "source": [
    "data[\"Müdahale Eden Amirlik\"] = data[\"Müdahale Eden Amirlik\"].str.replace(\"Grup Amirliği\",\"Gr. Amir.\")"
   ]
  },
  {
   "cell_type": "code",
   "execution_count": 6,
   "metadata": {},
   "outputs": [
    {
     "data": {
      "text/plain": [
       "array(['KARESİ', 'ERDEK', 'EDREMİT', 'AYVALIK', 'SAVAŞTEPE', 'BİGADİÇ',\n",
       "       'SINDIRGI', 'DURSUNBEY', 'BURHANİYE', 'MARMARA', 'SUSURLUK',\n",
       "       'ALTIEYLÜL', 'İVRİNDİ', 'BANDIRMA', 'MANYAS', 'BALYA', 'KEPSUT',\n",
       "       'GÖNEN', 'HAVRAN', 'GÖMEÇ', nan], dtype=object)"
      ]
     },
     "execution_count": 6,
     "metadata": {},
     "output_type": "execute_result"
    }
   ],
   "source": [
    "data[\"İlçe Adı\"].unique()"
   ]
  },
  {
   "cell_type": "code",
   "execution_count": 7,
   "metadata": {},
   "outputs": [
    {
     "data": {
      "text/plain": [
       "array(['YUZ_ON_IKI_CAGRI', 'ASILSIZ_IHBAR', 'TAKVIYE_AMACLI', 'DIGER',\n",
       "       'KONTROL'], dtype=object)"
      ]
     },
     "execution_count": 7,
     "metadata": {},
     "output_type": "execute_result"
    }
   ],
   "source": [
    "data[\"İhbar Tipi\"].unique()"
   ]
  },
  {
   "cell_type": "code",
   "execution_count": 8,
   "metadata": {},
   "outputs": [
    {
     "data": {
      "text/plain": [
       "array(['BASLANGIC_HALINDE', 'KISMEN', 'TAMAMEN', nan], dtype=object)"
      ]
     },
     "execution_count": 8,
     "metadata": {},
     "output_type": "execute_result"
    }
   ],
   "source": [
    "data[\"Tahmini Zarar\"].unique()"
   ]
  },
  {
   "cell_type": "code",
   "execution_count": 9,
   "metadata": {},
   "outputs": [
    {
     "data": {
      "text/plain": [
       "array(['Ot Yangını', 'Baca Yangını', 'Asılsız İhbar', 'Araç Yangını',\n",
       "       'İşyeri Yangını', 'Tedbir Amaçlı', 'Çöp Yangını', 'Ev Yangını',\n",
       "       'Diğer Yangınlar', 'Bina Yangını', 'Çatı Yangını', 'Dam Yangını',\n",
       "       'Elektrik Yangını', 'Yangın Zannı', 'Orman Yangını',\n",
       "       'Anız Yangını', 'Saman Yangını', 'Elektrik Yangını (Mesken)',\n",
       "       'Tatbikat', 'Takviye Amaçlı', 'Arazi Yangını'], dtype=object)"
      ]
     },
     "execution_count": 9,
     "metadata": {},
     "output_type": "execute_result"
    }
   ],
   "source": [
    "data[\"Yangın Cinsi\"].unique()"
   ]
  },
  {
   "cell_type": "code",
   "execution_count": 10,
   "metadata": {},
   "outputs": [
    {
     "data": {
      "text/plain": [
       "array(['Dikkatsizlik', 'Tedbirsizlik', 'Doğal Olaylar', 'Asılsız İhbar',\n",
       "       'İhmal', 'Trafik Kazası', 'Tespit Edilemedi', nan, 'Sigara',\n",
       "       'Kasıt', 'Takviye Amaçlı', 'Elektrik Kontağı', 'Şüpheli',\n",
       "       'Yangın Zannı', 'Gaz Kaçağı', 'Diğer', 'Akaryakıt', 'Arıza',\n",
       "       'Tatbikat', 'Sabotaj'], dtype=object)"
      ]
     },
     "execution_count": 10,
     "metadata": {},
     "output_type": "execute_result"
    }
   ],
   "source": [
    "data[\"Yangın Nedeni\"].unique()"
   ]
  },
  {
   "cell_type": "code",
   "execution_count": 11,
   "metadata": {},
   "outputs": [
    {
     "data": {
      "text/plain": [
       "array(['Karesi Gr. Amir.', 'Erdek Gr. Amir.', 'Edremit Gr. Amir.',\n",
       "       'Burhaniye Gr. Amir.', 'Havran Gr. Amir.', 'Ayvalık Gr. Amir.',\n",
       "       'Savaştepe Gr. Amir.', 'Bigadiç Gr. Amir.', 'Sındırgı Gr. Amir.',\n",
       "       'Dursunbey Gr. Amir.', 'Marmara Gr. Amir.', 'Susurluk Gr. Amir.',\n",
       "       'Merkez Gr. Amir.', 'İvrindi Gr. Amir.', 'Bandırma Gr. Amir.',\n",
       "       'Manyas Gr. Amir.', 'Balya Gr. Amir.', 'Kepsut Gr. Amir.',\n",
       "       'Gönen Gr. Amir.', 'Gömeç Gr. Amir.'], dtype=object)"
      ]
     },
     "execution_count": 11,
     "metadata": {},
     "output_type": "execute_result"
    }
   ],
   "source": [
    "data[\"Müdahale Eden Amirlik\"].unique()"
   ]
  },
  {
   "cell_type": "markdown",
   "metadata": {},
   "source": [
    "### Data Preprocessing"
   ]
  },
  {
   "cell_type": "markdown",
   "metadata": {},
   "source": [
    "There are detailed informations with the date and time of the incident. Firstly I converted them into datetime format. Then I extracted the year and month to the seperate columns for further analysis. Additionally, I added some other new columns as well to see the arrival time, extinguish time, and returning time in minutes. To convert some of the figures into minutes, I also defined a function."
   ]
  },
  {
   "cell_type": "code",
   "execution_count": 12,
   "metadata": {},
   "outputs": [],
   "source": [
    "data[\"İhbar Saati\"]=pd.to_datetime(data[\"İhbar Saati\"])\n",
    "data[\"Çıkış Tarihi\"]=pd.to_datetime(data[\"Çıkış Tarihi\"])\n",
    "data[\"Olay Yerine Ulaşım Saati\"]=pd.to_datetime(data[\"Olay Yerine Ulaşım Saati\"])\n",
    "data[\"Yangın Söndürme Saati\"]=pd.to_datetime(data[\"Yangın Söndürme Saati\"])\n",
    "data[\"Geri Dönüş Saati\"]=pd.to_datetime(data[\"Geri Dönüş Saati\"])"
   ]
  },
  {
   "cell_type": "code",
   "execution_count": 13,
   "metadata": {},
   "outputs": [],
   "source": [
    "def calc_min(delta):\n",
    "    return delta.seconds//60"
   ]
  },
  {
   "cell_type": "code",
   "execution_count": 14,
   "metadata": {},
   "outputs": [],
   "source": [
    "data[\"Yıl\"] = data[\"Çıkış Tarihi\"].dt.year\n",
    "data[\"Ay\"] = data[\"Çıkış Tarihi\"].dt.month\n",
    "data[\"Çıkış Süresi\"] = data[\"Çıkış Tarihi\"] - data[\"İhbar Saati\"]\n",
    "data[\"Olay Yerine Ulaşım Süresi\"] =data[\"Olay Yerine Ulaşım Saati\"] - data[\"İhbar Saati\"]\n",
    "data[\"Olay Yerine Ulaşım Süresi\"] = data[\"Olay Yerine Ulaşım Süresi\"].apply(calc_min)\n",
    "data[\"Geri Dönüş Süresi\"] =data[\"Geri Dönüş Saati\"] - data[\"Yangın Söndürme Saati\"]\n",
    "data[\"Geri Dönüş Süresi\"] = data[\"Geri Dönüş Süresi\"].apply(calc_min)\n",
    "data[\"Çıkış Süresi\"] =data[\"Çıkış Tarihi\"] - data[\"İhbar Saati\"]\n",
    "data[\"Çıkış Süresi\"] = data[\"Çıkış Süresi\"].apply(calc_min)\n",
    "data[\"Yangın Söndürme Süresi\"] =data[\"Yangın Söndürme Saati\"] - data[\"Olay Yerine Ulaşım Saati\"]\n",
    "data[\"Yangın Söndürme Süresi\"] = data[\"Yangın Söndürme Süresi\"].apply(calc_min)"
   ]
  },
  {
   "cell_type": "markdown",
   "metadata": {},
   "source": [
    "I investigated the missing values in the dataset.\n",
    "According to the missing values analysis below, \"Sokak\" column is all blank. Therefore I removed it."
   ]
  },
  {
   "cell_type": "code",
   "execution_count": 15,
   "metadata": {},
   "outputs": [
    {
     "data": {
      "text/html": [
       "<div>\n",
       "<style scoped>\n",
       "    .dataframe tbody tr th:only-of-type {\n",
       "        vertical-align: middle;\n",
       "    }\n",
       "\n",
       "    .dataframe tbody tr th {\n",
       "        vertical-align: top;\n",
       "    }\n",
       "\n",
       "    .dataframe thead th {\n",
       "        text-align: right;\n",
       "    }\n",
       "</style>\n",
       "<table border=\"1\" class=\"dataframe\">\n",
       "  <thead>\n",
       "    <tr style=\"text-align: right;\">\n",
       "      <th></th>\n",
       "      <th>Missing Values</th>\n",
       "      <th>Percent</th>\n",
       "    </tr>\n",
       "  </thead>\n",
       "  <tbody>\n",
       "    <tr>\n",
       "      <th>Sokak</th>\n",
       "      <td>9764</td>\n",
       "      <td>100.000000</td>\n",
       "    </tr>\n",
       "    <tr>\n",
       "      <th>Geri Dönüş Süresi</th>\n",
       "      <td>194</td>\n",
       "      <td>1.986891</td>\n",
       "    </tr>\n",
       "    <tr>\n",
       "      <th>Yangın Söndürme Süresi</th>\n",
       "      <td>193</td>\n",
       "      <td>1.976649</td>\n",
       "    </tr>\n",
       "    <tr>\n",
       "      <th>Yangın Söndürme Saati</th>\n",
       "      <td>193</td>\n",
       "      <td>1.976649</td>\n",
       "    </tr>\n",
       "    <tr>\n",
       "      <th>Tahmini Zarar</th>\n",
       "      <td>182</td>\n",
       "      <td>1.863990</td>\n",
       "    </tr>\n",
       "    <tr>\n",
       "      <th>Yangın Nedeni</th>\n",
       "      <td>43</td>\n",
       "      <td>0.440393</td>\n",
       "    </tr>\n",
       "    <tr>\n",
       "      <th>Mahalle</th>\n",
       "      <td>26</td>\n",
       "      <td>0.266284</td>\n",
       "    </tr>\n",
       "    <tr>\n",
       "      <th>Olay Yerine Ulaşım Süresi</th>\n",
       "      <td>24</td>\n",
       "      <td>0.245801</td>\n",
       "    </tr>\n",
       "    <tr>\n",
       "      <th>Olay Yerine Ulaşım Saati</th>\n",
       "      <td>24</td>\n",
       "      <td>0.245801</td>\n",
       "    </tr>\n",
       "    <tr>\n",
       "      <th>Geri Dönüş Saati</th>\n",
       "      <td>18</td>\n",
       "      <td>0.184351</td>\n",
       "    </tr>\n",
       "    <tr>\n",
       "      <th>Çıkış Süresi</th>\n",
       "      <td>14</td>\n",
       "      <td>0.143384</td>\n",
       "    </tr>\n",
       "    <tr>\n",
       "      <th>Ay</th>\n",
       "      <td>14</td>\n",
       "      <td>0.143384</td>\n",
       "    </tr>\n",
       "    <tr>\n",
       "      <th>Yıl</th>\n",
       "      <td>14</td>\n",
       "      <td>0.143384</td>\n",
       "    </tr>\n",
       "    <tr>\n",
       "      <th>Çıkış Tarihi</th>\n",
       "      <td>14</td>\n",
       "      <td>0.143384</td>\n",
       "    </tr>\n",
       "    <tr>\n",
       "      <th>İlçe Adı</th>\n",
       "      <td>1</td>\n",
       "      <td>0.010242</td>\n",
       "    </tr>\n",
       "  </tbody>\n",
       "</table>\n",
       "</div>"
      ],
      "text/plain": [
       "                           Missing Values     Percent\n",
       "Sokak                                9764  100.000000\n",
       "Geri Dönüş Süresi                     194    1.986891\n",
       "Yangın Söndürme Süresi                193    1.976649\n",
       "Yangın Söndürme Saati                 193    1.976649\n",
       "Tahmini Zarar                         182    1.863990\n",
       "Yangın Nedeni                          43    0.440393\n",
       "Mahalle                                26    0.266284\n",
       "Olay Yerine Ulaşım Süresi              24    0.245801\n",
       "Olay Yerine Ulaşım Saati               24    0.245801\n",
       "Geri Dönüş Saati                       18    0.184351\n",
       "Çıkış Süresi                           14    0.143384\n",
       "Ay                                     14    0.143384\n",
       "Yıl                                    14    0.143384\n",
       "Çıkış Tarihi                           14    0.143384\n",
       "İlçe Adı                                1    0.010242"
      ]
     },
     "execution_count": 15,
     "metadata": {},
     "output_type": "execute_result"
    }
   ],
   "source": [
    "miss_val = data.isnull().sum()\n",
    "miss_val=miss_val.drop(miss_val[miss_val == 0].index).sort_values(ascending = False)\n",
    "pd.DataFrame({'Missing Values':miss_val, 'Percent':miss_val/len(data)*100})"
   ]
  },
  {
   "cell_type": "code",
   "execution_count": 16,
   "metadata": {},
   "outputs": [
    {
     "data": {
      "text/plain": [
       "<matplotlib.axes._subplots.AxesSubplot at 0x2aca6917400>"
      ]
     },
     "execution_count": 16,
     "metadata": {},
     "output_type": "execute_result"
    },
    {
     "data": {
      "image/png": "[encoded data removed]",
      "text/plain": [
       "<Figure size 720x360 with 2 Axes>"
      ]
     },
     "metadata": {
      "needs_background": "light"
     },
     "output_type": "display_data"
    }
   ],
   "source": [
    "fig = plt.figure(figsize=(10,5))\n",
    "sns.heatmap(data.isnull(), yticklabels=\"\", cmap=\"viridis\")"
   ]
  },
  {
   "cell_type": "code",
   "execution_count": 17,
   "metadata": {},
   "outputs": [],
   "source": [
    "data = data.drop([\"Sokak\"],axis= 1)"
   ]
  },
  {
   "cell_type": "markdown",
   "metadata": {},
   "source": [
    "For the rest of the missing values, I followed the rules below:\n",
    "\n",
    "- Since most of the \"Yangın Nedeni\" column is equal to \"Asılsız İhbar\" while, \"Yangın Cinsi\" column equals to \"Asılsız İhbar\", fill all the blanks for \"Yangın Nedeni\" when \"Yangın Cinsi\" columns is \"Asılsız İhbar\"\n",
    "\n",
    "- If \"Yangın Cinsi\" value is equal to \"Yangın Zannı\", fill \"Yangın Nedeni\" missing values as \"Yangın Zannı\" as well.\n",
    "\n",
    "- Fill \"Tahmini Zarar\" as \"Hasar Yoktur\", where \"Yangın Cinsi\" feature equals to \"Asılsız İhbar\""
   ]
  },
  {
   "cell_type": "code",
   "execution_count": 18,
   "metadata": {},
   "outputs": [
    {
     "data": {
      "text/plain": [
       "Asılsız İhbar       520\n",
       "Yangın Zannı         11\n",
       "Dikkatsizlik          3\n",
       "Diğer                 1\n",
       "Tespit Edilemedi      1\n",
       "Tedbirsizlik          1\n",
       "Name: Yangın Nedeni, dtype: int64"
      ]
     },
     "execution_count": 18,
     "metadata": {},
     "output_type": "execute_result"
    }
   ],
   "source": [
    "data[data[\"Yangın Cinsi\"] == \"Asılsız İhbar\"][\"Yangın Nedeni\"].value_counts()"
   ]
  },
  {
   "cell_type": "code",
   "execution_count": 19,
   "metadata": {},
   "outputs": [],
   "source": [
    "data.loc[(data[\"Yangın Nedeni\"].isna() == True) & (data[\"Yangın Cinsi\"] == \"Asılsız İhbar\"),[\"Yangın Nedeni\"]] = \"Asılsız İhbar\""
   ]
  },
  {
   "cell_type": "code",
   "execution_count": 20,
   "metadata": {},
   "outputs": [
    {
     "data": {
      "text/plain": [
       "Yangın Zannı        231\n",
       "Asılsız İhbar         9\n",
       "Diğer                 7\n",
       "Tedbirsizlik          6\n",
       "Arıza                 3\n",
       "Dikkatsizlik          2\n",
       "Elektrik Kontağı      2\n",
       "Sigara                1\n",
       "Name: Yangın Nedeni, dtype: int64"
      ]
     },
     "execution_count": 20,
     "metadata": {},
     "output_type": "execute_result"
    }
   ],
   "source": [
    "data[data[\"Yangın Cinsi\"] == \"Yangın Zannı\"][\"Yangın Nedeni\"].value_counts()"
   ]
  },
  {
   "cell_type": "code",
   "execution_count": 21,
   "metadata": {},
   "outputs": [],
   "source": [
    "data.loc[(data[\"Yangın Nedeni\"].isna() == True) & (data[\"Yangın Cinsi\"] == \"Yangın Zannı\"),[\"Yangın Nedeni\"]] = \"Yangın Zannı\""
   ]
  },
  {
   "cell_type": "code",
   "execution_count": 22,
   "metadata": {},
   "outputs": [],
   "source": [
    "data.loc[(data[\"Tahmini Zarar\"].isna() == True) & (data[\"Yangın Cinsi\"] == \"Asılsız İhbar\"),[\"Tahmini Zarar\"]] = \"Hasar Yoktur\""
   ]
  },
  {
   "cell_type": "markdown",
   "metadata": {},
   "source": [
    "Afterwards I checked the dates. Dataset consists the years between 2017 and 2020. However, there are no consistent amount of data before October of 2017 and after February of 2020. Therefore, I only take data between these timeline into account. "
   ]
  },
  {
   "cell_type": "code",
   "execution_count": 23,
   "metadata": {},
   "outputs": [
    {
     "data": {
      "image/png": "[encoded data removed]",
      "text/plain": [
       "<Figure size 1440x360 with 1 Axes>"
      ]
     },
     "metadata": {
      "needs_background": "light"
     },
     "output_type": "display_data"
    }
   ],
   "source": [
    "fig = plt.figure(figsize= (20,5))\n",
    "sns.countplot(data[\"Yıl\"])\n",
    "plt.title(\"Dataset timeline by years\", size=30)\n",
    "plt.xlabel(\"Years\", size=20)\n",
    "plt.ylabel(\"Count\", size=20)\n",
    "fig.tight_layout()"
   ]
  },
  {
   "cell_type": "code",
   "execution_count": 24,
   "metadata": {},
   "outputs": [
    {
     "data": {
      "image/png": "[encoded data removed]",
      "text/plain": [
       "<Figure size 1080x360 with 5 Axes>"
      ]
     },
     "metadata": {
      "needs_background": "light"
     },
     "output_type": "display_data"
    }
   ],
   "source": [
    "fig, axs = plt.subplots(4,1, figsize=(15,5), sharex=True)\n",
    "fig.add_subplot(111, frameon=False)\n",
    "fig.suptitle(\"Dataset timeline by months\", size=20)\n",
    "sns.countplot(ax=axs[0], x=data[data[\"Yıl\"] == 2017][\"Ay\"])\n",
    "sns.countplot(ax=axs[1], x=data[data[\"Yıl\"] == 2018][\"Ay\"])\n",
    "sns.countplot(ax=axs[2], x=data[data[\"Yıl\"] == 2019][\"Ay\"])\n",
    "sns.countplot(ax=axs[3], x=data[data[\"Yıl\"] == 2020][\"Ay\"])\n",
    "plt.tick_params(labelcolor='none', top=False, bottom=False, left=False, right=False)\n",
    "fig.text(0.5, 0.04, 'Months', ha='center')\n",
    "fig.text(0.09, 0.5, 'Count', va='center', rotation='vertical')\n",
    "for ax in axs:\n",
    "    ax.set_xlabel(\"\")\n",
    "    ax.set_ylabel(\"\")\n",
    "    ax.set_yticks([])"
   ]
  },
  {
   "cell_type": "code",
   "execution_count": 25,
   "metadata": {},
   "outputs": [],
   "source": [
    "data.drop(data[(data[\"Yıl\"] == 2017) & (data[\"Ay\"] < 10)].index, inplace = True)\n",
    "data.drop(data[(data[\"Yıl\"] == 2020) & (data[\"Ay\"] > 1)].index, inplace = True)"
   ]
  },
  {
   "cell_type": "markdown",
   "metadata": {},
   "source": [
    "As we can see, dataset still includes plenty of missing values, especially at the columns that consists the time. I filled \"Yangın Söndürme Saati\" column by the mean values of the extinguishing fire based on its type. For this reason, I calculated each average extinguishing time in minutes and add them to the \"Olay Yerine Ulaşım Saati\" column."
   ]
  },
  {
   "cell_type": "code",
   "execution_count": 26,
   "metadata": {},
   "outputs": [
    {
     "data": {
      "text/html": [
       "<div>\n",
       "<style scoped>\n",
       "    .dataframe tbody tr th:only-of-type {\n",
       "        vertical-align: middle;\n",
       "    }\n",
       "\n",
       "    .dataframe tbody tr th {\n",
       "        vertical-align: top;\n",
       "    }\n",
       "\n",
       "    .dataframe thead th {\n",
       "        text-align: right;\n",
       "    }\n",
       "</style>\n",
       "<table border=\"1\" class=\"dataframe\">\n",
       "  <thead>\n",
       "    <tr style=\"text-align: right;\">\n",
       "      <th></th>\n",
       "      <th>Missing Values</th>\n",
       "      <th>Percent</th>\n",
       "    </tr>\n",
       "  </thead>\n",
       "  <tbody>\n",
       "    <tr>\n",
       "      <th>Geri Dönüş Süresi</th>\n",
       "      <td>188</td>\n",
       "      <td>1.954262</td>\n",
       "    </tr>\n",
       "    <tr>\n",
       "      <th>Yangın Söndürme Süresi</th>\n",
       "      <td>187</td>\n",
       "      <td>1.943867</td>\n",
       "    </tr>\n",
       "    <tr>\n",
       "      <th>Yangın Söndürme Saati</th>\n",
       "      <td>187</td>\n",
       "      <td>1.943867</td>\n",
       "    </tr>\n",
       "    <tr>\n",
       "      <th>Mahalle</th>\n",
       "      <td>26</td>\n",
       "      <td>0.270270</td>\n",
       "    </tr>\n",
       "    <tr>\n",
       "      <th>Olay Yerine Ulaşım Süresi</th>\n",
       "      <td>23</td>\n",
       "      <td>0.239085</td>\n",
       "    </tr>\n",
       "    <tr>\n",
       "      <th>Olay Yerine Ulaşım Saati</th>\n",
       "      <td>23</td>\n",
       "      <td>0.239085</td>\n",
       "    </tr>\n",
       "    <tr>\n",
       "      <th>Geri Dönüş Saati</th>\n",
       "      <td>18</td>\n",
       "      <td>0.187110</td>\n",
       "    </tr>\n",
       "    <tr>\n",
       "      <th>Yangın Nedeni</th>\n",
       "      <td>16</td>\n",
       "      <td>0.166320</td>\n",
       "    </tr>\n",
       "    <tr>\n",
       "      <th>Çıkış Süresi</th>\n",
       "      <td>14</td>\n",
       "      <td>0.145530</td>\n",
       "    </tr>\n",
       "    <tr>\n",
       "      <th>Ay</th>\n",
       "      <td>14</td>\n",
       "      <td>0.145530</td>\n",
       "    </tr>\n",
       "    <tr>\n",
       "      <th>Yıl</th>\n",
       "      <td>14</td>\n",
       "      <td>0.145530</td>\n",
       "    </tr>\n",
       "    <tr>\n",
       "      <th>Çıkış Tarihi</th>\n",
       "      <td>14</td>\n",
       "      <td>0.145530</td>\n",
       "    </tr>\n",
       "    <tr>\n",
       "      <th>Tahmini Zarar</th>\n",
       "      <td>9</td>\n",
       "      <td>0.093555</td>\n",
       "    </tr>\n",
       "    <tr>\n",
       "      <th>İlçe Adı</th>\n",
       "      <td>1</td>\n",
       "      <td>0.010395</td>\n",
       "    </tr>\n",
       "  </tbody>\n",
       "</table>\n",
       "</div>"
      ],
      "text/plain": [
       "                           Missing Values   Percent\n",
       "Geri Dönüş Süresi                     188  1.954262\n",
       "Yangın Söndürme Süresi                187  1.943867\n",
       "Yangın Söndürme Saati                 187  1.943867\n",
       "Mahalle                                26  0.270270\n",
       "Olay Yerine Ulaşım Süresi              23  0.239085\n",
       "Olay Yerine Ulaşım Saati               23  0.239085\n",
       "Geri Dönüş Saati                       18  0.187110\n",
       "Yangın Nedeni                          16  0.166320\n",
       "Çıkış Süresi                           14  0.145530\n",
       "Ay                                     14  0.145530\n",
       "Yıl                                    14  0.145530\n",
       "Çıkış Tarihi                           14  0.145530\n",
       "Tahmini Zarar                           9  0.093555\n",
       "İlçe Adı                                1  0.010395"
      ]
     },
     "execution_count": 26,
     "metadata": {},
     "output_type": "execute_result"
    }
   ],
   "source": [
    "miss_val = data.isnull().sum()\n",
    "miss_val=miss_val.drop(miss_val[miss_val == 0].index).sort_values(ascending = False)\n",
    "pd.DataFrame({'Missing Values':miss_val, 'Percent':miss_val/len(data)*100})"
   ]
  },
  {
   "cell_type": "code",
   "execution_count": 27,
   "metadata": {},
   "outputs": [],
   "source": [
    "cins_x = data[\"Yangın Cinsi\"].unique().tolist()"
   ]
  },
  {
   "cell_type": "code",
   "execution_count": 28,
   "metadata": {},
   "outputs": [],
   "source": [
    "#Creating a list that includes all average extinguishing time based on the type of the incident\n",
    "list_x =[]\n",
    "for i in cins_x:\n",
    "    list_x.append(data[data[\"Yangın Cinsi\"]==i][\"Yangın Söndürme Süresi\"].mean())"
   ]
  },
  {
   "cell_type": "code",
   "execution_count": 29,
   "metadata": {},
   "outputs": [],
   "source": [
    "#18th column is the \"Yangın Söndürme Süresi\". By the code below, we can fill all the NA values by average time \n",
    "#according to their type of incident\n",
    "for i in range(len(data)):\n",
    "    if pd.isnull(data.iloc[i][\"Yangın Söndürme Süresi\"]) == True:\n",
    "        data.iloc[i, 18] = list_x[cins_x.index(data.iloc[i][\"Yangın Cinsi\"])]"
   ]
  },
  {
   "cell_type": "code",
   "execution_count": 30,
   "metadata": {},
   "outputs": [],
   "source": [
    "#Then if we add the average minutes that calculated above to \"Olay Yerine Ulaşım Saati\" column, we would get the \n",
    "#missing \"Yangın Söndürme Saati\" values.\n",
    "for i in range(len(data)):\n",
    "    if pd.isnull(data.iloc[i][\"Yangın Söndürme Saati\"]) == True:\n",
    "        data.iloc[i, 11] = data.iloc[i, 10] + timedelta(minutes = data.iloc[i, 18])"
   ]
  },
  {
   "cell_type": "code",
   "execution_count": 31,
   "metadata": {},
   "outputs": [],
   "source": [
    "data[\"Geri Dönüş Süresi\"] =data[\"Geri Dönüş Saati\"] - data[\"Yangın Söndürme Saati\"]\n",
    "data[\"Geri Dönüş Süresi\"] = data[\"Geri Dönüş Süresi\"].apply(calc_min)"
   ]
  },
  {
   "cell_type": "code",
   "execution_count": 32,
   "metadata": {},
   "outputs": [
    {
     "data": {
      "text/html": [
       "<div>\n",
       "<style scoped>\n",
       "    .dataframe tbody tr th:only-of-type {\n",
       "        vertical-align: middle;\n",
       "    }\n",
       "\n",
       "    .dataframe tbody tr th {\n",
       "        vertical-align: top;\n",
       "    }\n",
       "\n",
       "    .dataframe thead th {\n",
       "        text-align: right;\n",
       "    }\n",
       "</style>\n",
       "<table border=\"1\" class=\"dataframe\">\n",
       "  <thead>\n",
       "    <tr style=\"text-align: right;\">\n",
       "      <th></th>\n",
       "      <th>Missing Values</th>\n",
       "      <th>Percent</th>\n",
       "    </tr>\n",
       "  </thead>\n",
       "  <tbody>\n",
       "    <tr>\n",
       "      <th>Geri Dönüş Süresi</th>\n",
       "      <td>27</td>\n",
       "      <td>0.280665</td>\n",
       "    </tr>\n",
       "    <tr>\n",
       "      <th>Mahalle</th>\n",
       "      <td>26</td>\n",
       "      <td>0.270270</td>\n",
       "    </tr>\n",
       "    <tr>\n",
       "      <th>Olay Yerine Ulaşım Süresi</th>\n",
       "      <td>23</td>\n",
       "      <td>0.239085</td>\n",
       "    </tr>\n",
       "    <tr>\n",
       "      <th>Yangın Söndürme Saati</th>\n",
       "      <td>23</td>\n",
       "      <td>0.239085</td>\n",
       "    </tr>\n",
       "    <tr>\n",
       "      <th>Olay Yerine Ulaşım Saati</th>\n",
       "      <td>23</td>\n",
       "      <td>0.239085</td>\n",
       "    </tr>\n",
       "    <tr>\n",
       "      <th>Geri Dönüş Saati</th>\n",
       "      <td>18</td>\n",
       "      <td>0.187110</td>\n",
       "    </tr>\n",
       "    <tr>\n",
       "      <th>Yangın Nedeni</th>\n",
       "      <td>16</td>\n",
       "      <td>0.166320</td>\n",
       "    </tr>\n",
       "    <tr>\n",
       "      <th>Çıkış Süresi</th>\n",
       "      <td>14</td>\n",
       "      <td>0.145530</td>\n",
       "    </tr>\n",
       "    <tr>\n",
       "      <th>Ay</th>\n",
       "      <td>14</td>\n",
       "      <td>0.145530</td>\n",
       "    </tr>\n",
       "    <tr>\n",
       "      <th>Yıl</th>\n",
       "      <td>14</td>\n",
       "      <td>0.145530</td>\n",
       "    </tr>\n",
       "    <tr>\n",
       "      <th>Çıkış Tarihi</th>\n",
       "      <td>14</td>\n",
       "      <td>0.145530</td>\n",
       "    </tr>\n",
       "    <tr>\n",
       "      <th>Tahmini Zarar</th>\n",
       "      <td>9</td>\n",
       "      <td>0.093555</td>\n",
       "    </tr>\n",
       "    <tr>\n",
       "      <th>İlçe Adı</th>\n",
       "      <td>1</td>\n",
       "      <td>0.010395</td>\n",
       "    </tr>\n",
       "  </tbody>\n",
       "</table>\n",
       "</div>"
      ],
      "text/plain": [
       "                           Missing Values   Percent\n",
       "Geri Dönüş Süresi                      27  0.280665\n",
       "Mahalle                                26  0.270270\n",
       "Olay Yerine Ulaşım Süresi              23  0.239085\n",
       "Yangın Söndürme Saati                  23  0.239085\n",
       "Olay Yerine Ulaşım Saati               23  0.239085\n",
       "Geri Dönüş Saati                       18  0.187110\n",
       "Yangın Nedeni                          16  0.166320\n",
       "Çıkış Süresi                           14  0.145530\n",
       "Ay                                     14  0.145530\n",
       "Yıl                                    14  0.145530\n",
       "Çıkış Tarihi                           14  0.145530\n",
       "Tahmini Zarar                           9  0.093555\n",
       "İlçe Adı                                1  0.010395"
      ]
     },
     "execution_count": 32,
     "metadata": {},
     "output_type": "execute_result"
    }
   ],
   "source": [
    "miss_val = data.isnull().sum()\n",
    "miss_val=miss_val.drop(miss_val[miss_val == 0].index).sort_values(ascending = False)\n",
    "pd.DataFrame({'Missing Values':miss_val, 'Percent':miss_val/len(data)*100})"
   ]
  },
  {
   "cell_type": "markdown",
   "metadata": {},
   "source": [
    "Finally, since very small portion of missing values remained, I deleted all records that have NA values"
   ]
  },
  {
   "cell_type": "code",
   "execution_count": 33,
   "metadata": {},
   "outputs": [],
   "source": [
    "data.dropna(inplace = True)"
   ]
  },
  {
   "cell_type": "code",
   "execution_count": 34,
   "metadata": {},
   "outputs": [
    {
     "data": {
      "text/html": [
       "<div>\n",
       "<style scoped>\n",
       "    .dataframe tbody tr th:only-of-type {\n",
       "        vertical-align: middle;\n",
       "    }\n",
       "\n",
       "    .dataframe tbody tr th {\n",
       "        vertical-align: top;\n",
       "    }\n",
       "\n",
       "    .dataframe thead th {\n",
       "        text-align: right;\n",
       "    }\n",
       "</style>\n",
       "<table border=\"1\" class=\"dataframe\">\n",
       "  <thead>\n",
       "    <tr style=\"text-align: right;\">\n",
       "      <th></th>\n",
       "      <th>Missing Values</th>\n",
       "      <th>Percent</th>\n",
       "    </tr>\n",
       "  </thead>\n",
       "  <tbody>\n",
       "  </tbody>\n",
       "</table>\n",
       "</div>"
      ],
      "text/plain": [
       "Empty DataFrame\n",
       "Columns: [Missing Values, Percent]\n",
       "Index: []"
      ]
     },
     "execution_count": 34,
     "metadata": {},
     "output_type": "execute_result"
    }
   ],
   "source": [
    "miss_val = data.isnull().sum()\n",
    "miss_val=miss_val.drop(miss_val[miss_val == 0].index).sort_values(ascending = False)\n",
    "pd.DataFrame({'Missing Values':miss_val, 'Percent':miss_val/len(data)*100})"
   ]
  },
  {
   "cell_type": "markdown",
   "metadata": {},
   "source": [
    "### Data Visualization"
   ]
  },
  {
   "cell_type": "markdown",
   "metadata": {},
   "source": [
    "First I would like to show the top causes of fire. Then I will visualize the consequences of those top 3 reasons.\n",
    "\n",
    "According to the table below, the top 3 reasons are cigarettes, lack of attention and intended fires.\n",
    "\n",
    "Then, I would like to examine specifically the reasons of the home fires and workplace fires."
   ]
  },
  {
   "cell_type": "code",
   "execution_count": 35,
   "metadata": {},
   "outputs": [
    {
     "data": {
      "text/plain": [
       "Sigara              1825\n",
       "Dikkatsizlik        1401\n",
       "Kasıt               1222\n",
       "Tedbirsizlik        1161\n",
       "Elektrik Kontağı     915\n",
       "Tespit Edilemedi     719\n",
       "Asılsız İhbar        592\n",
       "Doğal Olaylar        420\n",
       "Diğer                305\n",
       "Yangın Zannı         283\n",
       "İhmal                256\n",
       "Şüpheli              151\n",
       "Arıza                145\n",
       "Gaz Kaçağı            73\n",
       "Tatbikat              22\n",
       "Sabotaj               19\n",
       "Trafik Kazası         14\n",
       "Takviye Amaçlı        11\n",
       "Akaryakıt             10\n",
       "Name: Yangın Nedeni, dtype: int64"
      ]
     },
     "execution_count": 35,
     "metadata": {},
     "output_type": "execute_result"
    }
   ],
   "source": [
    "data[\"Yangın Nedeni\"].value_counts()"
   ]
  },
  {
   "cell_type": "code",
   "execution_count": 36,
   "metadata": {},
   "outputs": [
    {
     "data": {
      "text/plain": [
       "Ot Yangını                   3071\n",
       "Çöp Yangını                  2151\n",
       "Ev Yangını                    741\n",
       "Araç Yangını                  574\n",
       "Asılsız İhbar                 550\n",
       "Baca Yangını                  459\n",
       "Diğer Yangınlar               361\n",
       "Yangın Zannı                  258\n",
       "İşyeri Yangını                218\n",
       "Anız Yangını                  217\n",
       "Orman Yangını                 181\n",
       "Elektrik Yangını              170\n",
       "Çatı Yangını                  123\n",
       "Dam Yangını                   115\n",
       "Tedbir Amaçlı                 114\n",
       "Saman Yangını                  90\n",
       "Elektrik Yangını (Mesken)      65\n",
       "Bina Yangını                   59\n",
       "Tatbikat                       17\n",
       "Arazi Yangını                   8\n",
       "Takviye Amaçlı                  2\n",
       "Name: Yangın Cinsi, dtype: int64"
      ]
     },
     "execution_count": 36,
     "metadata": {},
     "output_type": "execute_result"
    }
   ],
   "source": [
    "data[\"Yangın Cinsi\"].value_counts()"
   ]
  },
  {
   "cell_type": "code",
   "execution_count": 37,
   "metadata": {},
   "outputs": [
    {
     "data": {
      "image/png": "[encoded data removed]",
      "text/plain": [
       "<Figure size 1440x360 with 1 Axes>"
      ]
     },
     "metadata": {
      "needs_background": "light"
     },
     "output_type": "display_data"
    }
   ],
   "source": [
    "fig = plt.figure(figsize= (20,5))\n",
    "sns.countplot(data[data[\"Yangın Nedeni\"] == \"Sigara\"][\"Yangın Cinsi\"], order = data[data[\"Yangın Nedeni\"] == \"Sigara\"][\"Yangın Cinsi\"].value_counts().index)\n",
    "plt.xticks(rotation=45)\n",
    "plt.title(\"Fire types caused by cigarettes\", size=30)\n",
    "plt.xlabel(\"Fire Type\", size=20)\n",
    "plt.ylabel(\"Count\", size=20)\n",
    "fig.tight_layout()"
   ]
  },
  {
   "cell_type": "code",
   "execution_count": 38,
   "metadata": {},
   "outputs": [
    {
     "data": {
      "image/png": "[encoded data removed]",
      "text/plain": [
       "<Figure size 1440x360 with 1 Axes>"
      ]
     },
     "metadata": {
      "needs_background": "light"
     },
     "output_type": "display_data"
    }
   ],
   "source": [
    "fig = plt.figure(figsize= (20,5))\n",
    "sns.countplot(data[data[\"Yangın Nedeni\"] == \"Dikkatsizlik\"][\"Yangın Cinsi\"], order = data[data[\"Yangın Nedeni\"] == \"Dikkatsizlik\"][\"Yangın Cinsi\"].value_counts().index)\n",
    "plt.xticks(rotation=45)\n",
    "plt.title(\"Fire types caused by lack of attention\", size=30)\n",
    "plt.xlabel(\"Fire Type\", size=20)\n",
    "plt.ylabel(\"Count\", size=20)\n",
    "fig.tight_layout()"
   ]
  },
  {
   "cell_type": "code",
   "execution_count": 39,
   "metadata": {},
   "outputs": [
    {
     "data": {
      "image/png": "[encoded data removed]",
      "text/plain": [
       "<Figure size 1440x360 with 1 Axes>"
      ]
     },
     "metadata": {
      "needs_background": "light"
     },
     "output_type": "display_data"
    }
   ],
   "source": [
    "fig = plt.figure(figsize= (20,5))\n",
    "sns.countplot(data[data[\"Yangın Nedeni\"] == \"Kasıt\"][\"Yangın Cinsi\"], order = data[data[\"Yangın Nedeni\"] == \"Kasıt\"][\"Yangın Cinsi\"].value_counts().index)\n",
    "plt.xticks(rotation=45)\n",
    "plt.title(\"Fire types caused intentionally\", size=30)\n",
    "plt.xlabel(\"Fire Type\", size=20)\n",
    "plt.ylabel(\"Count\", size=20)\n",
    "fig.tight_layout()"
   ]
  },
  {
   "cell_type": "code",
   "execution_count": 40,
   "metadata": {},
   "outputs": [
    {
     "data": {
      "image/png": "[encoded data removed]",
      "text/plain": [
       "<Figure size 1440x360 with 1 Axes>"
      ]
     },
     "metadata": {
      "needs_background": "light"
     },
     "output_type": "display_data"
    }
   ],
   "source": [
    "fig = plt.figure(figsize= (20,5))\n",
    "sns.countplot(data[data[\"Yangın Cinsi\"] == \"Ev Yangını\"][\"Yangın Nedeni\"], order = data[data[\"Yangın Cinsi\"] == \"Ev Yangını\"][\"Yangın Nedeni\"].value_counts().index)\n",
    "plt.xticks(rotation=45)\n",
    "plt.title(\"The reasons of home fire\", size=30)\n",
    "plt.xlabel(\"Reason\", size=20)\n",
    "plt.ylabel(\"Count\", size=20)\n",
    "fig.tight_layout()"
   ]
  },
  {
   "cell_type": "code",
   "execution_count": 41,
   "metadata": {},
   "outputs": [
    {
     "data": {
      "image/png": "[encoded data removed]",
      "text/plain": [
       "<Figure size 1440x360 with 1 Axes>"
      ]
     },
     "metadata": {
      "needs_background": "light"
     },
     "output_type": "display_data"
    }
   ],
   "source": [
    "fig = plt.figure(figsize= (20,5))\n",
    "sns.countplot(data[data[\"Yangın Cinsi\"] == \"İşyeri Yangını\"][\"Yangın Nedeni\"], order = data[data[\"Yangın Cinsi\"] == \"İşyeri Yangını\"][\"Yangın Nedeni\"].value_counts().index)\n",
    "plt.xticks(rotation=45)\n",
    "plt.title(\"The reasons of workplace fire\", size=30)\n",
    "plt.xlabel(\"Reason\", size=20)\n",
    "plt.ylabel(\"Count\", size=20)\n",
    "fig.tight_layout()"
   ]
  },
  {
   "cell_type": "markdown",
   "metadata": {},
   "source": [
    "Some of the takeaways regarding the graphs above:\n",
    "\n",
    "- \"Ot Yangını\" and \"Çöp Yangını\" are most seen cases.\n",
    "\n",
    "- Especially electrical issues and lack of attention causes home fires.\n",
    "\n",
    "- People mostly tend to set on fire the trashes, which is still common at suburbs or villages.\n",
    "\n",
    "- Home fires and workplace fires have common reasons, such as electrical contact or inattention or imprudence.\n",
    "\n",
    "- Intentional home fires can be seen quite often."
   ]
  },
  {
   "cell_type": "markdown",
   "metadata": {},
   "source": [
    "### Data Analysis"
   ]
  },
  {
   "cell_type": "markdown",
   "metadata": {},
   "source": [
    "At the beginning, I analyzed the average duration of all steps of an incident. Then I checked the districts that take the longest to arrive and the fire types the hardest to extinguish and sorted them by their total number of recorded cases."
   ]
  },
  {
   "cell_type": "code",
   "execution_count": 42,
   "metadata": {},
   "outputs": [
    {
     "name": "stdout",
     "output_type": "stream",
     "text": [
      "Average leaving time: 2 minutes\n",
      "Average arrival time: 7 minutes\n",
      "Average extinguishing time: 39 minutes\n",
      "Average returning time: 22 minutes\n"
     ]
    }
   ],
   "source": [
    "print('Average leaving time: %d minutes' %(data[\"Çıkış Süresi\"].mean()))\n",
    "print('Average arrival time: %d minutes' %(data[\"Olay Yerine Ulaşım Süresi\"].mean()))\n",
    "print('Average extinguishing time: %d minutes' %(data[\"Yangın Söndürme Süresi\"].mean()))\n",
    "print('Average returning time: %d minutes' %(data[\"Geri Dönüş Süresi\"].mean()))"
   ]
  },
  {
   "cell_type": "code",
   "execution_count": 43,
   "metadata": {},
   "outputs": [
    {
     "data": {
      "text/html": [
       "<div>\n",
       "<style scoped>\n",
       "    .dataframe tbody tr th:only-of-type {\n",
       "        vertical-align: middle;\n",
       "    }\n",
       "\n",
       "    .dataframe tbody tr th {\n",
       "        vertical-align: top;\n",
       "    }\n",
       "\n",
       "    .dataframe thead th {\n",
       "        text-align: right;\n",
       "    }\n",
       "</style>\n",
       "<table border=\"1\" class=\"dataframe\">\n",
       "  <thead>\n",
       "    <tr style=\"text-align: right;\">\n",
       "      <th></th>\n",
       "      <th>Ortalama Olay Yerine Ulaşım Süresi</th>\n",
       "      <th>Olay Sayısı</th>\n",
       "    </tr>\n",
       "    <tr>\n",
       "      <th>İlçe Adı</th>\n",
       "      <th></th>\n",
       "      <th></th>\n",
       "    </tr>\n",
       "  </thead>\n",
       "  <tbody>\n",
       "    <tr>\n",
       "      <th>EDREMİT</th>\n",
       "      <td>5.0</td>\n",
       "      <td>1517</td>\n",
       "    </tr>\n",
       "    <tr>\n",
       "      <th>BANDIRMA</th>\n",
       "      <td>6.0</td>\n",
       "      <td>1359</td>\n",
       "    </tr>\n",
       "    <tr>\n",
       "      <th>AYVALIK</th>\n",
       "      <td>5.0</td>\n",
       "      <td>1190</td>\n",
       "    </tr>\n",
       "    <tr>\n",
       "      <th>ALTIEYLÜL</th>\n",
       "      <td>10.0</td>\n",
       "      <td>955</td>\n",
       "    </tr>\n",
       "    <tr>\n",
       "      <th>BURHANİYE</th>\n",
       "      <td>5.0</td>\n",
       "      <td>861</td>\n",
       "    </tr>\n",
       "    <tr>\n",
       "      <th>KARESİ</th>\n",
       "      <td>7.0</td>\n",
       "      <td>649</td>\n",
       "    </tr>\n",
       "    <tr>\n",
       "      <th>GÖNEN</th>\n",
       "      <td>9.0</td>\n",
       "      <td>385</td>\n",
       "    </tr>\n",
       "    <tr>\n",
       "      <th>SUSURLUK</th>\n",
       "      <td>9.0</td>\n",
       "      <td>336</td>\n",
       "    </tr>\n",
       "    <tr>\n",
       "      <th>HAVRAN</th>\n",
       "      <td>10.0</td>\n",
       "      <td>318</td>\n",
       "    </tr>\n",
       "    <tr>\n",
       "      <th>SINDIRGI</th>\n",
       "      <td>13.0</td>\n",
       "      <td>265</td>\n",
       "    </tr>\n",
       "    <tr>\n",
       "      <th>BİGADİÇ</th>\n",
       "      <td>9.0</td>\n",
       "      <td>252</td>\n",
       "    </tr>\n",
       "    <tr>\n",
       "      <th>MANYAS</th>\n",
       "      <td>11.0</td>\n",
       "      <td>237</td>\n",
       "    </tr>\n",
       "    <tr>\n",
       "      <th>GÖMEÇ</th>\n",
       "      <td>6.0</td>\n",
       "      <td>209</td>\n",
       "    </tr>\n",
       "    <tr>\n",
       "      <th>SAVAŞTEPE</th>\n",
       "      <td>7.0</td>\n",
       "      <td>193</td>\n",
       "    </tr>\n",
       "    <tr>\n",
       "      <th>ERDEK</th>\n",
       "      <td>11.0</td>\n",
       "      <td>187</td>\n",
       "    </tr>\n",
       "    <tr>\n",
       "      <th>DURSUNBEY</th>\n",
       "      <td>17.0</td>\n",
       "      <td>162</td>\n",
       "    </tr>\n",
       "    <tr>\n",
       "      <th>MARMARA</th>\n",
       "      <td>7.0</td>\n",
       "      <td>141</td>\n",
       "    </tr>\n",
       "    <tr>\n",
       "      <th>İVRİNDİ</th>\n",
       "      <td>13.0</td>\n",
       "      <td>138</td>\n",
       "    </tr>\n",
       "    <tr>\n",
       "      <th>KEPSUT</th>\n",
       "      <td>12.0</td>\n",
       "      <td>119</td>\n",
       "    </tr>\n",
       "    <tr>\n",
       "      <th>BALYA</th>\n",
       "      <td>14.0</td>\n",
       "      <td>71</td>\n",
       "    </tr>\n",
       "  </tbody>\n",
       "</table>\n",
       "</div>"
      ],
      "text/plain": [
       "           Ortalama Olay Yerine Ulaşım Süresi  Olay Sayısı\n",
       "İlçe Adı                                                  \n",
       "EDREMİT                                   5.0         1517\n",
       "BANDIRMA                                  6.0         1359\n",
       "AYVALIK                                   5.0         1190\n",
       "ALTIEYLÜL                                10.0          955\n",
       "BURHANİYE                                 5.0          861\n",
       "KARESİ                                    7.0          649\n",
       "GÖNEN                                     9.0          385\n",
       "SUSURLUK                                  9.0          336\n",
       "HAVRAN                                   10.0          318\n",
       "SINDIRGI                                 13.0          265\n",
       "BİGADİÇ                                   9.0          252\n",
       "MANYAS                                   11.0          237\n",
       "GÖMEÇ                                     6.0          209\n",
       "SAVAŞTEPE                                 7.0          193\n",
       "ERDEK                                    11.0          187\n",
       "DURSUNBEY                                17.0          162\n",
       "MARMARA                                   7.0          141\n",
       "İVRİNDİ                                  13.0          138\n",
       "KEPSUT                                   12.0          119\n",
       "BALYA                                    14.0           71"
      ]
     },
     "execution_count": 43,
     "metadata": {},
     "output_type": "execute_result"
    }
   ],
   "source": [
    "data.groupby(\"İlçe Adı\").agg({\"Olay Yerine Ulaşım Süresi\": \"mean\", \"İlçe Adı\": \"count\"}).round(0).rename(columns={\"Olay Yerine Ulaşım Süresi\":\"Ortalama Olay Yerine Ulaşım Süresi\", \"İlçe Adı\": \"Olay Sayısı\"}).sort_values(\"Olay Sayısı\", ascending=False)"
   ]
  },
  {
   "cell_type": "code",
   "execution_count": 44,
   "metadata": {},
   "outputs": [
    {
     "data": {
      "text/html": [
       "<div>\n",
       "<style scoped>\n",
       "    .dataframe tbody tr th:only-of-type {\n",
       "        vertical-align: middle;\n",
       "    }\n",
       "\n",
       "    .dataframe tbody tr th {\n",
       "        vertical-align: top;\n",
       "    }\n",
       "\n",
       "    .dataframe thead th {\n",
       "        text-align: right;\n",
       "    }\n",
       "</style>\n",
       "<table border=\"1\" class=\"dataframe\">\n",
       "  <thead>\n",
       "    <tr style=\"text-align: right;\">\n",
       "      <th></th>\n",
       "      <th>Ortalama Söndürme Süresi</th>\n",
       "      <th>Yangın Türü</th>\n",
       "    </tr>\n",
       "    <tr>\n",
       "      <th>Yangın Cinsi</th>\n",
       "      <th></th>\n",
       "      <th></th>\n",
       "    </tr>\n",
       "  </thead>\n",
       "  <tbody>\n",
       "    <tr>\n",
       "      <th>Ot Yangını</th>\n",
       "      <td>38.0</td>\n",
       "      <td>3071</td>\n",
       "    </tr>\n",
       "    <tr>\n",
       "      <th>Çöp Yangını</th>\n",
       "      <td>42.0</td>\n",
       "      <td>2151</td>\n",
       "    </tr>\n",
       "    <tr>\n",
       "      <th>Ev Yangını</th>\n",
       "      <td>45.0</td>\n",
       "      <td>741</td>\n",
       "    </tr>\n",
       "    <tr>\n",
       "      <th>Araç Yangını</th>\n",
       "      <td>30.0</td>\n",
       "      <td>574</td>\n",
       "    </tr>\n",
       "    <tr>\n",
       "      <th>Asılsız İhbar</th>\n",
       "      <td>15.0</td>\n",
       "      <td>550</td>\n",
       "    </tr>\n",
       "    <tr>\n",
       "      <th>Baca Yangını</th>\n",
       "      <td>32.0</td>\n",
       "      <td>459</td>\n",
       "    </tr>\n",
       "    <tr>\n",
       "      <th>Diğer Yangınlar</th>\n",
       "      <td>32.0</td>\n",
       "      <td>361</td>\n",
       "    </tr>\n",
       "    <tr>\n",
       "      <th>Yangın Zannı</th>\n",
       "      <td>18.0</td>\n",
       "      <td>258</td>\n",
       "    </tr>\n",
       "    <tr>\n",
       "      <th>İşyeri Yangını</th>\n",
       "      <td>53.0</td>\n",
       "      <td>218</td>\n",
       "    </tr>\n",
       "    <tr>\n",
       "      <th>Anız Yangını</th>\n",
       "      <td>50.0</td>\n",
       "      <td>217</td>\n",
       "    </tr>\n",
       "    <tr>\n",
       "      <th>Orman Yangını</th>\n",
       "      <td>70.0</td>\n",
       "      <td>181</td>\n",
       "    </tr>\n",
       "    <tr>\n",
       "      <th>Elektrik Yangını</th>\n",
       "      <td>21.0</td>\n",
       "      <td>170</td>\n",
       "    </tr>\n",
       "    <tr>\n",
       "      <th>Çatı Yangını</th>\n",
       "      <td>56.0</td>\n",
       "      <td>123</td>\n",
       "    </tr>\n",
       "    <tr>\n",
       "      <th>Dam Yangını</th>\n",
       "      <td>142.0</td>\n",
       "      <td>115</td>\n",
       "    </tr>\n",
       "    <tr>\n",
       "      <th>Tedbir Amaçlı</th>\n",
       "      <td>32.0</td>\n",
       "      <td>114</td>\n",
       "    </tr>\n",
       "    <tr>\n",
       "      <th>Saman Yangını</th>\n",
       "      <td>139.0</td>\n",
       "      <td>90</td>\n",
       "    </tr>\n",
       "    <tr>\n",
       "      <th>Elektrik Yangını (Mesken)</th>\n",
       "      <td>20.0</td>\n",
       "      <td>65</td>\n",
       "    </tr>\n",
       "    <tr>\n",
       "      <th>Bina Yangını</th>\n",
       "      <td>50.0</td>\n",
       "      <td>59</td>\n",
       "    </tr>\n",
       "    <tr>\n",
       "      <th>Tatbikat</th>\n",
       "      <td>34.0</td>\n",
       "      <td>17</td>\n",
       "    </tr>\n",
       "    <tr>\n",
       "      <th>Arazi Yangını</th>\n",
       "      <td>67.0</td>\n",
       "      <td>8</td>\n",
       "    </tr>\n",
       "    <tr>\n",
       "      <th>Takviye Amaçlı</th>\n",
       "      <td>100.0</td>\n",
       "      <td>2</td>\n",
       "    </tr>\n",
       "  </tbody>\n",
       "</table>\n",
       "</div>"
      ],
      "text/plain": [
       "                           Ortalama Söndürme Süresi  Yangın Türü\n",
       "Yangın Cinsi                                                    \n",
       "Ot Yangını                                     38.0         3071\n",
       "Çöp Yangını                                    42.0         2151\n",
       "Ev Yangını                                     45.0          741\n",
       "Araç Yangını                                   30.0          574\n",
       "Asılsız İhbar                                  15.0          550\n",
       "Baca Yangını                                   32.0          459\n",
       "Diğer Yangınlar                                32.0          361\n",
       "Yangın Zannı                                   18.0          258\n",
       "İşyeri Yangını                                 53.0          218\n",
       "Anız Yangını                                   50.0          217\n",
       "Orman Yangını                                  70.0          181\n",
       "Elektrik Yangını                               21.0          170\n",
       "Çatı Yangını                                   56.0          123\n",
       "Dam Yangını                                   142.0          115\n",
       "Tedbir Amaçlı                                  32.0          114\n",
       "Saman Yangını                                 139.0           90\n",
       "Elektrik Yangını (Mesken)                      20.0           65\n",
       "Bina Yangını                                   50.0           59\n",
       "Tatbikat                                       34.0           17\n",
       "Arazi Yangını                                  67.0            8\n",
       "Takviye Amaçlı                                100.0            2"
      ]
     },
     "execution_count": 44,
     "metadata": {},
     "output_type": "execute_result"
    }
   ],
   "source": [
    "data.groupby(\"Yangın Cinsi\").agg({\"Yangın Söndürme Süresi\": \"mean\", \"Yangın Cinsi\": \"count\"}).round(0).rename(columns = {\"Yangın Söndürme Süresi\":\"Ortalama Söndürme Süresi\", \"Yangın Cinsi\":\"Yangın Türü\"}).sort_values(\"Yangın Türü\", ascending=False)"
   ]
  },
  {
   "cell_type": "markdown",
   "metadata": {},
   "source": [
    "The heatmap below illustrates the percentages of fire types by districts. At a glance the significant points are:\n",
    "\n",
    "- Most of the false calls are made at Ayvalik and Bandirma\n",
    "\n",
    "- Most of the land fires are recorded at Erdek and Bigadic\n",
    "\n",
    "- Most of the forest fires are recorded at Ayvalik\n",
    "\n",
    "- Drills are only occured at Altieylül or Bandirma"
   ]
  },
  {
   "cell_type": "code",
   "execution_count": 45,
   "metadata": {},
   "outputs": [],
   "source": [
    "ilce_yangin = pd.crosstab(data[\"İlçe Adı\"], data[\"Yangın Cinsi\"], values=data[\"Yangın Cinsi\"], aggfunc=\"count\", margins=False, normalize=\"columns\")*100\n",
    "ilce_yangin.fillna(0, inplace = True)\n",
    "ilce_yangin = ilce_yangin.round(2)\n",
    "ilce_yangin = ilce_yangin.transpose()"
   ]
  },
  {
   "cell_type": "code",
   "execution_count": 46,
   "metadata": {},
   "outputs": [
    {
     "data": {
      "image/png": "[encoded data removed]",
      "text/plain": [
       "<Figure size 1440x720 with 2 Axes>"
      ]
     },
     "metadata": {
      "needs_background": "light"
     },
     "output_type": "display_data"
    }
   ],
   "source": [
    "fig=plt.figure(figsize=(20,10))\n",
    "sns.heatmap(ilce_yangin,cmap=\"viridis\", annot=True)\n",
    "plt.title(\"The percentages of fire types by districts\", size=30)\n",
    "plt.xlabel(\"Districts\", size=20)\n",
    "plt.ylabel(\"Fire Type\", size=20)\n",
    "fig.tight_layout()"
   ]
  },
  {
   "cell_type": "markdown",
   "metadata": {},
   "source": [
    "For the further analyzing, I merged the populations of the districts to the dataset. I would like to investigate, if the population effects the density of the fire incidents or not? And does it also effects the occurance of the some of the fire types at certain districts?"
   ]
  },
  {
   "cell_type": "code",
   "execution_count": 47,
   "metadata": {},
   "outputs": [],
   "source": [
    "nufus = pd.read_excel(\"Balikesir_ilce_nufus_2019.xlsx\", encoding = 'utf-8')\n",
    "nufus_2019 = nufus[[\"İlçe\", \"2019 nüfusu\"]]\n",
    "data_merge = data.merge(nufus_2019,how=\"left\", left_on='İlçe Adı', right_on ='İlçe')\n",
    "data_merge.drop(\"İlçe\", inplace=True, axis = 1)"
   ]
  },
  {
   "cell_type": "code",
   "execution_count": 48,
   "metadata": {},
   "outputs": [
    {
     "data": {
      "text/html": [
       "<div>\n",
       "<style scoped>\n",
       "    .dataframe tbody tr th:only-of-type {\n",
       "        vertical-align: middle;\n",
       "    }\n",
       "\n",
       "    .dataframe tbody tr th {\n",
       "        vertical-align: top;\n",
       "    }\n",
       "\n",
       "    .dataframe thead th {\n",
       "        text-align: right;\n",
       "    }\n",
       "</style>\n",
       "<table border=\"1\" class=\"dataframe\">\n",
       "  <thead>\n",
       "    <tr style=\"text-align: right;\">\n",
       "      <th></th>\n",
       "      <th>ID</th>\n",
       "      <th>İlçe Adı</th>\n",
       "      <th>Mahalle</th>\n",
       "      <th>İhbar Tipi</th>\n",
       "      <th>Tahmini Zarar</th>\n",
       "      <th>Yangın Cinsi</th>\n",
       "      <th>Yangın Nedeni</th>\n",
       "      <th>Müdahale Eden Amirlik</th>\n",
       "      <th>İhbar Saati</th>\n",
       "      <th>Çıkış Tarihi</th>\n",
       "      <th>Olay Yerine Ulaşım Saati</th>\n",
       "      <th>Yangın Söndürme Saati</th>\n",
       "      <th>Geri Dönüş Saati</th>\n",
       "      <th>Yıl</th>\n",
       "      <th>Ay</th>\n",
       "      <th>Çıkış Süresi</th>\n",
       "      <th>Olay Yerine Ulaşım Süresi</th>\n",
       "      <th>Geri Dönüş Süresi</th>\n",
       "      <th>Yangın Söndürme Süresi</th>\n",
       "      <th>2019 nüfusu</th>\n",
       "    </tr>\n",
       "  </thead>\n",
       "  <tbody>\n",
       "    <tr>\n",
       "      <th>0</th>\n",
       "      <td>9764</td>\n",
       "      <td>KARESİ</td>\n",
       "      <td>ZİYARETLİ</td>\n",
       "      <td>YUZ_ON_IKI_CAGRI</td>\n",
       "      <td>BASLANGIC_HALINDE</td>\n",
       "      <td>Ot Yangını</td>\n",
       "      <td>Dikkatsizlik</td>\n",
       "      <td>Karesi Gr. Amir.</td>\n",
       "      <td>2017-11-18 18:54:00</td>\n",
       "      <td>2017-11-18 18:55:00</td>\n",
       "      <td>2017-11-18 19:06:00</td>\n",
       "      <td>2017-11-18 19:28:00</td>\n",
       "      <td>2017-11-18 19:42:00</td>\n",
       "      <td>2017.0</td>\n",
       "      <td>11.0</td>\n",
       "      <td>1.0</td>\n",
       "      <td>12.0</td>\n",
       "      <td>14.0</td>\n",
       "      <td>22.0</td>\n",
       "      <td>183084</td>\n",
       "    </tr>\n",
       "    <tr>\n",
       "      <th>1</th>\n",
       "      <td>9763</td>\n",
       "      <td>ERDEK</td>\n",
       "      <td>ZEYTİNLİ</td>\n",
       "      <td>YUZ_ON_IKI_CAGRI</td>\n",
       "      <td>BASLANGIC_HALINDE</td>\n",
       "      <td>Ot Yangını</td>\n",
       "      <td>Dikkatsizlik</td>\n",
       "      <td>Erdek Gr. Amir.</td>\n",
       "      <td>2019-11-13 15:28:00</td>\n",
       "      <td>2019-11-13 15:29:00</td>\n",
       "      <td>2019-11-13 15:33:00</td>\n",
       "      <td>2019-11-13 15:55:00</td>\n",
       "      <td>2019-11-13 16:02:00</td>\n",
       "      <td>2019.0</td>\n",
       "      <td>11.0</td>\n",
       "      <td>1.0</td>\n",
       "      <td>5.0</td>\n",
       "      <td>7.0</td>\n",
       "      <td>22.0</td>\n",
       "      <td>32120</td>\n",
       "    </tr>\n",
       "    <tr>\n",
       "      <th>2</th>\n",
       "      <td>9762</td>\n",
       "      <td>ERDEK</td>\n",
       "      <td>ZEYTİNLİ</td>\n",
       "      <td>YUZ_ON_IKI_CAGRI</td>\n",
       "      <td>KISMEN</td>\n",
       "      <td>Ot Yangını</td>\n",
       "      <td>Tedbirsizlik</td>\n",
       "      <td>Erdek Gr. Amir.</td>\n",
       "      <td>2019-10-25 10:58:00</td>\n",
       "      <td>2019-10-25 10:59:00</td>\n",
       "      <td>2019-10-25 11:03:00</td>\n",
       "      <td>2019-10-25 12:20:00</td>\n",
       "      <td>2019-10-25 12:25:00</td>\n",
       "      <td>2019.0</td>\n",
       "      <td>10.0</td>\n",
       "      <td>1.0</td>\n",
       "      <td>5.0</td>\n",
       "      <td>5.0</td>\n",
       "      <td>77.0</td>\n",
       "      <td>32120</td>\n",
       "    </tr>\n",
       "    <tr>\n",
       "      <th>3</th>\n",
       "      <td>9761</td>\n",
       "      <td>ERDEK</td>\n",
       "      <td>ZEYTİNLİ</td>\n",
       "      <td>YUZ_ON_IKI_CAGRI</td>\n",
       "      <td>BASLANGIC_HALINDE</td>\n",
       "      <td>Baca Yangını</td>\n",
       "      <td>Dikkatsizlik</td>\n",
       "      <td>Erdek Gr. Amir.</td>\n",
       "      <td>2019-10-16 18:10:00</td>\n",
       "      <td>2019-10-16 18:11:00</td>\n",
       "      <td>2019-10-16 18:15:00</td>\n",
       "      <td>2019-10-16 18:55:00</td>\n",
       "      <td>2019-10-16 19:00:00</td>\n",
       "      <td>2019.0</td>\n",
       "      <td>10.0</td>\n",
       "      <td>1.0</td>\n",
       "      <td>5.0</td>\n",
       "      <td>5.0</td>\n",
       "      <td>40.0</td>\n",
       "      <td>32120</td>\n",
       "    </tr>\n",
       "    <tr>\n",
       "      <th>4</th>\n",
       "      <td>9760</td>\n",
       "      <td>ERDEK</td>\n",
       "      <td>ZEYTİNLİ</td>\n",
       "      <td>YUZ_ON_IKI_CAGRI</td>\n",
       "      <td>KISMEN</td>\n",
       "      <td>Ot Yangını</td>\n",
       "      <td>Doğal Olaylar</td>\n",
       "      <td>Erdek Gr. Amir.</td>\n",
       "      <td>2019-08-19 17:03:00</td>\n",
       "      <td>2019-08-19 17:03:00</td>\n",
       "      <td>2019-08-19 17:05:00</td>\n",
       "      <td>2019-08-19 17:40:00</td>\n",
       "      <td>2019-08-19 17:45:00</td>\n",
       "      <td>2019.0</td>\n",
       "      <td>8.0</td>\n",
       "      <td>0.0</td>\n",
       "      <td>2.0</td>\n",
       "      <td>5.0</td>\n",
       "      <td>35.0</td>\n",
       "      <td>32120</td>\n",
       "    </tr>\n",
       "  </tbody>\n",
       "</table>\n",
       "</div>"
      ],
      "text/plain": [
       "     ID İlçe Adı    Mahalle        İhbar Tipi      Tahmini Zarar  \\\n",
       "0  9764   KARESİ  ZİYARETLİ  YUZ_ON_IKI_CAGRI  BASLANGIC_HALINDE   \n",
       "1  9763    ERDEK   ZEYTİNLİ  YUZ_ON_IKI_CAGRI  BASLANGIC_HALINDE   \n",
       "2  9762    ERDEK   ZEYTİNLİ  YUZ_ON_IKI_CAGRI             KISMEN   \n",
       "3  9761    ERDEK   ZEYTİNLİ  YUZ_ON_IKI_CAGRI  BASLANGIC_HALINDE   \n",
       "4  9760    ERDEK   ZEYTİNLİ  YUZ_ON_IKI_CAGRI             KISMEN   \n",
       "\n",
       "   Yangın Cinsi  Yangın Nedeni Müdahale Eden Amirlik         İhbar Saati  \\\n",
       "0    Ot Yangını   Dikkatsizlik      Karesi Gr. Amir. 2017-11-18 18:54:00   \n",
       "1    Ot Yangını   Dikkatsizlik       Erdek Gr. Amir. 2019-11-13 15:28:00   \n",
       "2    Ot Yangını   Tedbirsizlik       Erdek Gr. Amir. 2019-10-25 10:58:00   \n",
       "3  Baca Yangını   Dikkatsizlik       Erdek Gr. Amir. 2019-10-16 18:10:00   \n",
       "4    Ot Yangını  Doğal Olaylar       Erdek Gr. Amir. 2019-08-19 17:03:00   \n",
       "\n",
       "         Çıkış Tarihi Olay Yerine Ulaşım Saati Yangın Söndürme Saati  \\\n",
       "0 2017-11-18 18:55:00      2017-11-18 19:06:00   2017-11-18 19:28:00   \n",
       "1 2019-11-13 15:29:00      2019-11-13 15:33:00   2019-11-13 15:55:00   \n",
       "2 2019-10-25 10:59:00      2019-10-25 11:03:00   2019-10-25 12:20:00   \n",
       "3 2019-10-16 18:11:00      2019-10-16 18:15:00   2019-10-16 18:55:00   \n",
       "4 2019-08-19 17:03:00      2019-08-19 17:05:00   2019-08-19 17:40:00   \n",
       "\n",
       "     Geri Dönüş Saati     Yıl    Ay  Çıkış Süresi  Olay Yerine Ulaşım Süresi  \\\n",
       "0 2017-11-18 19:42:00  2017.0  11.0           1.0                       12.0   \n",
       "1 2019-11-13 16:02:00  2019.0  11.0           1.0                        5.0   \n",
       "2 2019-10-25 12:25:00  2019.0  10.0           1.0                        5.0   \n",
       "3 2019-10-16 19:00:00  2019.0  10.0           1.0                        5.0   \n",
       "4 2019-08-19 17:45:00  2019.0   8.0           0.0                        2.0   \n",
       "\n",
       "   Geri Dönüş Süresi  Yangın Söndürme Süresi  2019 nüfusu  \n",
       "0               14.0                    22.0       183084  \n",
       "1                7.0                    22.0        32120  \n",
       "2                5.0                    77.0        32120  \n",
       "3                5.0                    40.0        32120  \n",
       "4                5.0                    35.0        32120  "
      ]
     },
     "execution_count": 48,
     "metadata": {},
     "output_type": "execute_result"
    }
   ],
   "source": [
    "data_merge.head()"
   ]
  },
  {
   "cell_type": "markdown",
   "metadata": {},
   "source": [
    "As mentioned at the top, Karesi is the most crowded district of Balikesir. However, most of the incidents are seen at Edremit. Additionally, despite the fact that Ayvalik is the 6th crowded city of Balikesir, after Edremit and Bandirma, most of the cases are recorded here."
   ]
  },
  {
   "cell_type": "code",
   "execution_count": 49,
   "metadata": {},
   "outputs": [
    {
     "data": {
      "text/html": [
       "<div>\n",
       "<style scoped>\n",
       "    .dataframe tbody tr th:only-of-type {\n",
       "        vertical-align: middle;\n",
       "    }\n",
       "\n",
       "    .dataframe tbody tr th {\n",
       "        vertical-align: top;\n",
       "    }\n",
       "\n",
       "    .dataframe thead th {\n",
       "        text-align: right;\n",
       "    }\n",
       "</style>\n",
       "<table border=\"1\" class=\"dataframe\">\n",
       "  <thead>\n",
       "    <tr style=\"text-align: right;\">\n",
       "      <th></th>\n",
       "      <th>2019 Nüfus</th>\n",
       "      <th>İhbar Sayısı</th>\n",
       "    </tr>\n",
       "    <tr>\n",
       "      <th>İlçe Adı</th>\n",
       "      <th></th>\n",
       "      <th></th>\n",
       "    </tr>\n",
       "  </thead>\n",
       "  <tbody>\n",
       "    <tr>\n",
       "      <th>ALTIEYLÜL</th>\n",
       "      <td>181286</td>\n",
       "      <td>955</td>\n",
       "    </tr>\n",
       "    <tr>\n",
       "      <th>AYVALIK</th>\n",
       "      <td>70720</td>\n",
       "      <td>1190</td>\n",
       "    </tr>\n",
       "    <tr>\n",
       "      <th>BALYA</th>\n",
       "      <td>12932</td>\n",
       "      <td>71</td>\n",
       "    </tr>\n",
       "    <tr>\n",
       "      <th>BANDIRMA</th>\n",
       "      <td>156787</td>\n",
       "      <td>1359</td>\n",
       "    </tr>\n",
       "    <tr>\n",
       "      <th>BURHANİYE</th>\n",
       "      <td>60490</td>\n",
       "      <td>861</td>\n",
       "    </tr>\n",
       "    <tr>\n",
       "      <th>BİGADİÇ</th>\n",
       "      <td>49926</td>\n",
       "      <td>252</td>\n",
       "    </tr>\n",
       "    <tr>\n",
       "      <th>DURSUNBEY</th>\n",
       "      <td>35122</td>\n",
       "      <td>162</td>\n",
       "    </tr>\n",
       "    <tr>\n",
       "      <th>EDREMİT</th>\n",
       "      <td>155837</td>\n",
       "      <td>1517</td>\n",
       "    </tr>\n",
       "    <tr>\n",
       "      <th>ERDEK</th>\n",
       "      <td>32120</td>\n",
       "      <td>187</td>\n",
       "    </tr>\n",
       "    <tr>\n",
       "      <th>GÖMEÇ</th>\n",
       "      <td>14175</td>\n",
       "      <td>209</td>\n",
       "    </tr>\n",
       "    <tr>\n",
       "      <th>GÖNEN</th>\n",
       "      <td>74183</td>\n",
       "      <td>385</td>\n",
       "    </tr>\n",
       "    <tr>\n",
       "      <th>HAVRAN</th>\n",
       "      <td>27857</td>\n",
       "      <td>318</td>\n",
       "    </tr>\n",
       "    <tr>\n",
       "      <th>KARESİ</th>\n",
       "      <td>183084</td>\n",
       "      <td>649</td>\n",
       "    </tr>\n",
       "    <tr>\n",
       "      <th>KEPSUT</th>\n",
       "      <td>23142</td>\n",
       "      <td>119</td>\n",
       "    </tr>\n",
       "    <tr>\n",
       "      <th>MANYAS</th>\n",
       "      <td>18936</td>\n",
       "      <td>237</td>\n",
       "    </tr>\n",
       "    <tr>\n",
       "      <th>MARMARA</th>\n",
       "      <td>9730</td>\n",
       "      <td>141</td>\n",
       "    </tr>\n",
       "    <tr>\n",
       "      <th>SAVAŞTEPE</th>\n",
       "      <td>17844</td>\n",
       "      <td>193</td>\n",
       "    </tr>\n",
       "    <tr>\n",
       "      <th>SINDIRGI</th>\n",
       "      <td>33253</td>\n",
       "      <td>265</td>\n",
       "    </tr>\n",
       "    <tr>\n",
       "      <th>SUSURLUK</th>\n",
       "      <td>38704</td>\n",
       "      <td>336</td>\n",
       "    </tr>\n",
       "    <tr>\n",
       "      <th>İVRİNDİ</th>\n",
       "      <td>32492</td>\n",
       "      <td>138</td>\n",
       "    </tr>\n",
       "  </tbody>\n",
       "</table>\n",
       "</div>"
      ],
      "text/plain": [
       "           2019 Nüfus  İhbar Sayısı\n",
       "İlçe Adı                           \n",
       "ALTIEYLÜL      181286           955\n",
       "AYVALIK         70720          1190\n",
       "BALYA           12932            71\n",
       "BANDIRMA       156787          1359\n",
       "BURHANİYE       60490           861\n",
       "BİGADİÇ         49926           252\n",
       "DURSUNBEY       35122           162\n",
       "EDREMİT        155837          1517\n",
       "ERDEK           32120           187\n",
       "GÖMEÇ           14175           209\n",
       "GÖNEN           74183           385\n",
       "HAVRAN          27857           318\n",
       "KARESİ         183084           649\n",
       "KEPSUT          23142           119\n",
       "MANYAS          18936           237\n",
       "MARMARA          9730           141\n",
       "SAVAŞTEPE       17844           193\n",
       "SINDIRGI        33253           265\n",
       "SUSURLUK        38704           336\n",
       "İVRİNDİ         32492           138"
      ]
     },
     "execution_count": 49,
     "metadata": {},
     "output_type": "execute_result"
    }
   ],
   "source": [
    "data_yogunluk = data_merge.groupby(\"İlçe Adı\").agg({\"2019 nüfusu\": \"mean\", \"ID\": \"count\"})\n",
    "data_yogunluk.rename(columns={\"2019 nüfusu\":\"2019 Nüfus\", \"ID\":\"İhbar Sayısı\"}, inplace=True)\n",
    "data_yogunluk"
   ]
  },
  {
   "cell_type": "markdown",
   "metadata": {},
   "source": [
    "I would like to sum up the relationship between population and incident numbers by the table below. \n",
    "\n",
    "- \"Yogunluk\" represents number of people per call. Since Karesi is the most crowded district, it has the biggest density. On the other hand Dursunbey have the second biggest density, even though there is one of the least crowded districts.\n",
    "\n",
    "- \"Nüfus_yüzde\" and \"İhbar_yüzde\" represent the percentages of the population and recorded cases respectively by districts. Karesi have almost 15% of the all population, but the percentage of calls is only 6.8%\n",
    "\n",
    "- While only approximately 6% of the population live in Ayvalik, 12.5% of the all cases are recorded here. I assume the reason is being a touristic district and the number of people is multiplying especially in summers.\n",
    "\n",
    "- There is strong relationship between population and incident numbers according to the correlation table as well."
   ]
  },
  {
   "cell_type": "code",
   "execution_count": 50,
   "metadata": {},
   "outputs": [
    {
     "data": {
      "text/html": [
       "<div>\n",
       "<style scoped>\n",
       "    .dataframe tbody tr th:only-of-type {\n",
       "        vertical-align: middle;\n",
       "    }\n",
       "\n",
       "    .dataframe tbody tr th {\n",
       "        vertical-align: top;\n",
       "    }\n",
       "\n",
       "    .dataframe thead th {\n",
       "        text-align: right;\n",
       "    }\n",
       "</style>\n",
       "<table border=\"1\" class=\"dataframe\">\n",
       "  <thead>\n",
       "    <tr style=\"text-align: right;\">\n",
       "      <th></th>\n",
       "      <th>2019 Nüfus</th>\n",
       "      <th>İhbar Sayısı</th>\n",
       "      <th>Yogunluk</th>\n",
       "      <th>Nüfus_yüzde</th>\n",
       "      <th>İhbar_yüzde</th>\n",
       "    </tr>\n",
       "    <tr>\n",
       "      <th>İlçe Adı</th>\n",
       "      <th></th>\n",
       "      <th></th>\n",
       "      <th></th>\n",
       "      <th></th>\n",
       "      <th></th>\n",
       "    </tr>\n",
       "  </thead>\n",
       "  <tbody>\n",
       "    <tr>\n",
       "      <th>EDREMİT</th>\n",
       "      <td>155837</td>\n",
       "      <td>1517</td>\n",
       "      <td>102.73</td>\n",
       "      <td>12.68</td>\n",
       "      <td>15.89</td>\n",
       "    </tr>\n",
       "    <tr>\n",
       "      <th>BANDIRMA</th>\n",
       "      <td>156787</td>\n",
       "      <td>1359</td>\n",
       "      <td>115.37</td>\n",
       "      <td>12.76</td>\n",
       "      <td>14.24</td>\n",
       "    </tr>\n",
       "    <tr>\n",
       "      <th>AYVALIK</th>\n",
       "      <td>70720</td>\n",
       "      <td>1190</td>\n",
       "      <td>59.43</td>\n",
       "      <td>5.76</td>\n",
       "      <td>12.47</td>\n",
       "    </tr>\n",
       "    <tr>\n",
       "      <th>ALTIEYLÜL</th>\n",
       "      <td>181286</td>\n",
       "      <td>955</td>\n",
       "      <td>189.83</td>\n",
       "      <td>14.76</td>\n",
       "      <td>10.01</td>\n",
       "    </tr>\n",
       "    <tr>\n",
       "      <th>BURHANİYE</th>\n",
       "      <td>60490</td>\n",
       "      <td>861</td>\n",
       "      <td>70.26</td>\n",
       "      <td>4.92</td>\n",
       "      <td>9.02</td>\n",
       "    </tr>\n",
       "    <tr>\n",
       "      <th>KARESİ</th>\n",
       "      <td>183084</td>\n",
       "      <td>649</td>\n",
       "      <td>282.10</td>\n",
       "      <td>14.90</td>\n",
       "      <td>6.80</td>\n",
       "    </tr>\n",
       "    <tr>\n",
       "      <th>GÖNEN</th>\n",
       "      <td>74183</td>\n",
       "      <td>385</td>\n",
       "      <td>192.68</td>\n",
       "      <td>6.04</td>\n",
       "      <td>4.03</td>\n",
       "    </tr>\n",
       "    <tr>\n",
       "      <th>SUSURLUK</th>\n",
       "      <td>38704</td>\n",
       "      <td>336</td>\n",
       "      <td>115.19</td>\n",
       "      <td>3.15</td>\n",
       "      <td>3.52</td>\n",
       "    </tr>\n",
       "    <tr>\n",
       "      <th>HAVRAN</th>\n",
       "      <td>27857</td>\n",
       "      <td>318</td>\n",
       "      <td>87.60</td>\n",
       "      <td>2.27</td>\n",
       "      <td>3.33</td>\n",
       "    </tr>\n",
       "    <tr>\n",
       "      <th>SINDIRGI</th>\n",
       "      <td>33253</td>\n",
       "      <td>265</td>\n",
       "      <td>125.48</td>\n",
       "      <td>2.71</td>\n",
       "      <td>2.78</td>\n",
       "    </tr>\n",
       "    <tr>\n",
       "      <th>BİGADİÇ</th>\n",
       "      <td>49926</td>\n",
       "      <td>252</td>\n",
       "      <td>198.12</td>\n",
       "      <td>4.06</td>\n",
       "      <td>2.64</td>\n",
       "    </tr>\n",
       "    <tr>\n",
       "      <th>MANYAS</th>\n",
       "      <td>18936</td>\n",
       "      <td>237</td>\n",
       "      <td>79.90</td>\n",
       "      <td>1.54</td>\n",
       "      <td>2.48</td>\n",
       "    </tr>\n",
       "    <tr>\n",
       "      <th>GÖMEÇ</th>\n",
       "      <td>14175</td>\n",
       "      <td>209</td>\n",
       "      <td>67.82</td>\n",
       "      <td>1.15</td>\n",
       "      <td>2.19</td>\n",
       "    </tr>\n",
       "    <tr>\n",
       "      <th>SAVAŞTEPE</th>\n",
       "      <td>17844</td>\n",
       "      <td>193</td>\n",
       "      <td>92.46</td>\n",
       "      <td>1.45</td>\n",
       "      <td>2.02</td>\n",
       "    </tr>\n",
       "    <tr>\n",
       "      <th>ERDEK</th>\n",
       "      <td>32120</td>\n",
       "      <td>187</td>\n",
       "      <td>171.76</td>\n",
       "      <td>2.61</td>\n",
       "      <td>1.96</td>\n",
       "    </tr>\n",
       "    <tr>\n",
       "      <th>DURSUNBEY</th>\n",
       "      <td>35122</td>\n",
       "      <td>162</td>\n",
       "      <td>216.80</td>\n",
       "      <td>2.86</td>\n",
       "      <td>1.70</td>\n",
       "    </tr>\n",
       "    <tr>\n",
       "      <th>MARMARA</th>\n",
       "      <td>9730</td>\n",
       "      <td>141</td>\n",
       "      <td>69.01</td>\n",
       "      <td>0.79</td>\n",
       "      <td>1.48</td>\n",
       "    </tr>\n",
       "    <tr>\n",
       "      <th>İVRİNDİ</th>\n",
       "      <td>32492</td>\n",
       "      <td>138</td>\n",
       "      <td>235.45</td>\n",
       "      <td>2.64</td>\n",
       "      <td>1.45</td>\n",
       "    </tr>\n",
       "    <tr>\n",
       "      <th>KEPSUT</th>\n",
       "      <td>23142</td>\n",
       "      <td>119</td>\n",
       "      <td>194.47</td>\n",
       "      <td>1.88</td>\n",
       "      <td>1.25</td>\n",
       "    </tr>\n",
       "    <tr>\n",
       "      <th>BALYA</th>\n",
       "      <td>12932</td>\n",
       "      <td>71</td>\n",
       "      <td>182.14</td>\n",
       "      <td>1.05</td>\n",
       "      <td>0.74</td>\n",
       "    </tr>\n",
       "  </tbody>\n",
       "</table>\n",
       "</div>"
      ],
      "text/plain": [
       "           2019 Nüfus  İhbar Sayısı  Yogunluk  Nüfus_yüzde  İhbar_yüzde\n",
       "İlçe Adı                                                               \n",
       "EDREMİT        155837          1517    102.73        12.68        15.89\n",
       "BANDIRMA       156787          1359    115.37        12.76        14.24\n",
       "AYVALIK         70720          1190     59.43         5.76        12.47\n",
       "ALTIEYLÜL      181286           955    189.83        14.76        10.01\n",
       "BURHANİYE       60490           861     70.26         4.92         9.02\n",
       "KARESİ         183084           649    282.10        14.90         6.80\n",
       "GÖNEN           74183           385    192.68         6.04         4.03\n",
       "SUSURLUK        38704           336    115.19         3.15         3.52\n",
       "HAVRAN          27857           318     87.60         2.27         3.33\n",
       "SINDIRGI        33253           265    125.48         2.71         2.78\n",
       "BİGADİÇ         49926           252    198.12         4.06         2.64\n",
       "MANYAS          18936           237     79.90         1.54         2.48\n",
       "GÖMEÇ           14175           209     67.82         1.15         2.19\n",
       "SAVAŞTEPE       17844           193     92.46         1.45         2.02\n",
       "ERDEK           32120           187    171.76         2.61         1.96\n",
       "DURSUNBEY       35122           162    216.80         2.86         1.70\n",
       "MARMARA          9730           141     69.01         0.79         1.48\n",
       "İVRİNDİ         32492           138    235.45         2.64         1.45\n",
       "KEPSUT          23142           119    194.47         1.88         1.25\n",
       "BALYA           12932            71    182.14         1.05         0.74"
      ]
     },
     "execution_count": 50,
     "metadata": {},
     "output_type": "execute_result"
    }
   ],
   "source": [
    "data_yogunluk[\"Yogunluk\"] = (data_yogunluk[\"2019 Nüfus\"]/data_yogunluk[\"İhbar Sayısı\"]).round(2)\n",
    "data_yogunluk[\"Nüfus_yüzde\"] = ((data_yogunluk[\"2019 Nüfus\"]/(data_yogunluk[\"2019 Nüfus\"].sum()))*100).round(2)\n",
    "data_yogunluk[\"İhbar_yüzde\"] = ((data_yogunluk[\"İhbar Sayısı\"]/(data_yogunluk[\"İhbar Sayısı\"].sum()))*100).round(2)\n",
    "data_yogunluk = data_yogunluk.sort_values(\"İhbar_yüzde\", ascending=False)\n",
    "data_yogunluk"
   ]
  },
  {
   "cell_type": "code",
   "execution_count": 51,
   "metadata": {},
   "outputs": [
    {
     "data": {
      "text/html": [
       "<div>\n",
       "<style scoped>\n",
       "    .dataframe tbody tr th:only-of-type {\n",
       "        vertical-align: middle;\n",
       "    }\n",
       "\n",
       "    .dataframe tbody tr th {\n",
       "        vertical-align: top;\n",
       "    }\n",
       "\n",
       "    .dataframe thead th {\n",
       "        text-align: right;\n",
       "    }\n",
       "</style>\n",
       "<table border=\"1\" class=\"dataframe\">\n",
       "  <thead>\n",
       "    <tr style=\"text-align: right;\">\n",
       "      <th></th>\n",
       "      <th>2019 Nüfus</th>\n",
       "      <th>İhbar Sayısı</th>\n",
       "      <th>Yogunluk</th>\n",
       "      <th>Nüfus_yüzde</th>\n",
       "      <th>İhbar_yüzde</th>\n",
       "    </tr>\n",
       "  </thead>\n",
       "  <tbody>\n",
       "    <tr>\n",
       "      <th>2019 Nüfus</th>\n",
       "      <td>1.000000</td>\n",
       "      <td>0.792737</td>\n",
       "      <td>0.291393</td>\n",
       "      <td>1.000000</td>\n",
       "      <td>0.792796</td>\n",
       "    </tr>\n",
       "    <tr>\n",
       "      <th>İhbar Sayısı</th>\n",
       "      <td>0.792737</td>\n",
       "      <td>1.000000</td>\n",
       "      <td>-0.232326</td>\n",
       "      <td>0.792754</td>\n",
       "      <td>1.000000</td>\n",
       "    </tr>\n",
       "    <tr>\n",
       "      <th>Yogunluk</th>\n",
       "      <td>0.291393</td>\n",
       "      <td>-0.232326</td>\n",
       "      <td>1.000000</td>\n",
       "      <td>0.291300</td>\n",
       "      <td>-0.232199</td>\n",
       "    </tr>\n",
       "    <tr>\n",
       "      <th>Nüfus_yüzde</th>\n",
       "      <td>1.000000</td>\n",
       "      <td>0.792754</td>\n",
       "      <td>0.291300</td>\n",
       "      <td>1.000000</td>\n",
       "      <td>0.792813</td>\n",
       "    </tr>\n",
       "    <tr>\n",
       "      <th>İhbar_yüzde</th>\n",
       "      <td>0.792796</td>\n",
       "      <td>1.000000</td>\n",
       "      <td>-0.232199</td>\n",
       "      <td>0.792813</td>\n",
       "      <td>1.000000</td>\n",
       "    </tr>\n",
       "  </tbody>\n",
       "</table>\n",
       "</div>"
      ],
      "text/plain": [
       "              2019 Nüfus  İhbar Sayısı  Yogunluk  Nüfus_yüzde  İhbar_yüzde\n",
       "2019 Nüfus      1.000000      0.792737  0.291393     1.000000     0.792796\n",
       "İhbar Sayısı    0.792737      1.000000 -0.232326     0.792754     1.000000\n",
       "Yogunluk        0.291393     -0.232326  1.000000     0.291300    -0.232199\n",
       "Nüfus_yüzde     1.000000      0.792754  0.291300     1.000000     0.792813\n",
       "İhbar_yüzde     0.792796      1.000000 -0.232199     0.792813     1.000000"
      ]
     },
     "execution_count": 51,
     "metadata": {},
     "output_type": "execute_result"
    }
   ],
   "source": [
    "correlation=data_yogunluk.corr()\n",
    "correlation"
   ]
  },
  {
   "cell_type": "markdown",
   "metadata": {},
   "source": [
    "### Conclusion"
   ]
  },
  {
   "cell_type": "markdown",
   "metadata": {},
   "source": [
    "If we put it in a nutshell, fire incidents generally could be easily avoided with a little more attention. Most of the time, a cigarette litter or neglected electric line could give such disastrous results. Taking more precautions at the districts that getting crowded only for certain seasons, could reduce the number of cases in my opinion. The analysis shows that, fire departments have outstanding effort to reach to the fire zone as soon as possible. It only takes less than 10 minutes to reach to the incident area after notice is received. For the further analysis, the seasonality effect, if there are differences for the fire types or at the districts based on the season could be researched as well. Additionally, predicting the next fire zone's location or the fire types could have great benefits to take precautions and fighting against fire in advance."
   ]
  },
  {
   "cell_type": "markdown",
   "metadata": {},
   "source": [
    "### References"
   ]
  },
  {
   "cell_type": "markdown",
   "metadata": {},
   "source": [
    "https://acikveri.balikesir.bel.tr/Veriler/VeriSetiTabloGorunum?vsadi=itfaiye-cagri-mudahale\n",
    "\n",
    "https://tr.wikipedia.org/wiki/Bal%C4%B1kesir%27in_il%C3%A7eleri"
   ]
  }
 ],
 "metadata": {
  "kernelspec": {
   "display_name": "Python 3",
   "language": "python",
   "name": "python3"
  },
  "language_info": {
   "codemirror_mode": {
    "name": "ipython",
    "version": 3
   },
   "file_extension": ".py",
   "mimetype": "text/x-python",
   "name": "python",
   "nbconvert_exporter": "python",
   "pygments_lexer": "ipython3",
   "version": "3.7.3"
  }
 },
 "nbformat": 4,
 "nbformat_minor": 2
}
